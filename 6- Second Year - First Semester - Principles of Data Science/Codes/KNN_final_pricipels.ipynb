{
  "nbformat": 4,
  "nbformat_minor": 0,
  "metadata": {
    "colab": {
      "provenance": []
    },
    "kernelspec": {
      "name": "python3",
      "display_name": "Python 3"
    },
    "language_info": {
      "name": "python"
    }
  },
  "cells": [
    {
      "cell_type": "code",
      "execution_count": 114,
      "metadata": {
        "id": "Qc8Tv5N9s37W"
      },
      "outputs": [],
      "source": [
        "import numpy as np\n",
        "import pandas as pd"
      ]
    },
    {
      "cell_type": "code",
      "source": [
        "data=pd.read_csv(\"dataset.csv\")\n"
      ],
      "metadata": {
        "id": "t8APBd65s8i2"
      },
      "execution_count": 115,
      "outputs": []
    },
    {
      "cell_type": "code",
      "source": [],
      "metadata": {
        "id": "Q_lE1U9ys9B2"
      },
      "execution_count": 115,
      "outputs": []
    },
    {
      "cell_type": "code",
      "source": [
        "#print(data[data['I_W'].isnull()])"
      ],
      "metadata": {
        "id": "y2gvMm6ds_R5"
      },
      "execution_count": 116,
      "outputs": []
    },
    {
      "cell_type": "code",
      "source": [
        "#data.dtypes"
      ],
      "metadata": {
        "id": "lNni7R3ItC66"
      },
      "execution_count": 117,
      "outputs": []
    },
    {
      "cell_type": "code",
      "source": [
        "#data['O_Size'].value_counts()"
      ],
      "metadata": {
        "id": "lDzatgxTtEwf"
      },
      "execution_count": 118,
      "outputs": []
    },
    {
      "cell_type": "code",
      "source": [
        "#data['I_Id'].value_counts()"
      ],
      "metadata": {
        "id": "UJT4XpTftK-R"
      },
      "execution_count": 119,
      "outputs": []
    },
    {
      "cell_type": "code",
      "source": [
        "#data['I_W'].value_counts()"
      ],
      "metadata": {
        "id": "-ckzXTOutKJi"
      },
      "execution_count": 120,
      "outputs": []
    },
    {
      "cell_type": "code",
      "source": [
        "#data['I_Fat_C'].value_counts()"
      ],
      "metadata": {
        "id": "3ckC-tE_tN-c"
      },
      "execution_count": 121,
      "outputs": []
    },
    {
      "cell_type": "code",
      "source": [
        "del data['I_MRP_JD']"
      ],
      "metadata": {
        "id": "E0FunsSvtRZ_"
      },
      "execution_count": 122,
      "outputs": []
    },
    {
      "cell_type": "code",
      "source": [
        "#data.head(20)"
      ],
      "metadata": {
        "id": "G0hTmvoQtR3Z"
      },
      "execution_count": 123,
      "outputs": []
    },
    {
      "cell_type": "code",
      "source": [
        "data['I_Fat_C'] = data['I_Fat_C'].replace(['LF'], 'Low Fat')\n",
        "data['I_Fat_C'] = data['I_Fat_C'].replace(['reg'], 'Regular')\n",
        "data['I_Fat_C'] = data['I_Fat_C'].replace(['low fat'], 'Low Fat')\n",
        "data['I_W'] = data.groupby('I_Id')['I_W'].transform(lambda x: x.fillna(x.mode(False)[0]))\n",
        "data['I_W'] = data['I_W'].where(data['I_Id']!='FDH52', 9.42, axis=0)\n",
        "data['I_W'] = data['I_W'].where(data['I_Id']!='NCU29', 7.685, axis=0)\n",
        "data['I_W'] = data['I_W'].where(data['I_Id']!='NCT53', 5.4, axis=0)\n",
        "data['I_W']=data['I_W'].fillna(data['I_W'].mean)\n",
        "probability = data['O_Size'].value_counts() / data['O_Size'].count()\n",
        "data['O_Size'] = data['O_Size'].fillna(pd.Series(np.random.choice(list(probability.index), p=probability, size=len(data))))\n",
        "data.isnull().sum()\n",
        "data['I_W'] = pd.factorize(data['I_W'])[0]\n"
      ],
      "metadata": {
        "id": "q4eQ6hrLtThZ"
      },
      "execution_count": 124,
      "outputs": []
    },
    {
      "cell_type": "code",
      "source": [
        "from sklearn.preprocessing import LabelEncoder\n",
        "cat_columns= data.select_dtypes(['object']).columns\n",
        "label_encoder=LabelEncoder()\n",
        "data[cat_columns]=data[cat_columns].apply(LabelEncoder().fit_transform)\n",
        "data.head()"
      ],
      "metadata": {
        "colab": {
          "base_uri": "https://localhost:8080/",
          "height": 270
        },
        "id": "UJS0iI9nuVdL",
        "outputId": "2616d62c-9fc9-413e-a67d-b10c71f23b68"
      },
      "execution_count": 125,
      "outputs": [
        {
          "output_type": "execute_result",
          "data": {
            "text/plain": [
              "   I_Id  I_W  I_Fat_C     I_Vis  I_category  I_MRP_US  O_Id  O_Establ_Y  \\\n",
              "0   156    0        0  0.016172           4  317.8092     9        2009   \n",
              "1     8    1        1  0.019403          14  116.2692     3        2019   \n",
              "2   662    2        0  0.016885          10  209.6180     9        2009   \n",
              "3  1121    3        1  0.000000           6  250.0950     0        2008   \n",
              "4  1297    4        0  0.000000           9  121.8614     1        1997   \n",
              "\n",
              "   O_Size  I_Recalled  O_Loc_T  O_T  I_O_Sales  \n",
              "0       1           0        0    1  3915.1380  \n",
              "1       1           1        2    0   623.4228  \n",
              "2       1           0        0    1  2277.2700  \n",
              "3       1           0        2    3   912.3800  \n",
              "4       0           0        2    1  1174.7052  "
            ],
            "text/html": [
              "\n",
              "  <div id=\"df-7535679a-cfba-4e77-ac92-435dd14ca2d6\">\n",
              "    <div class=\"colab-df-container\">\n",
              "      <div>\n",
              "<style scoped>\n",
              "    .dataframe tbody tr th:only-of-type {\n",
              "        vertical-align: middle;\n",
              "    }\n",
              "\n",
              "    .dataframe tbody tr th {\n",
              "        vertical-align: top;\n",
              "    }\n",
              "\n",
              "    .dataframe thead th {\n",
              "        text-align: right;\n",
              "    }\n",
              "</style>\n",
              "<table border=\"1\" class=\"dataframe\">\n",
              "  <thead>\n",
              "    <tr style=\"text-align: right;\">\n",
              "      <th></th>\n",
              "      <th>I_Id</th>\n",
              "      <th>I_W</th>\n",
              "      <th>I_Fat_C</th>\n",
              "      <th>I_Vis</th>\n",
              "      <th>I_category</th>\n",
              "      <th>I_MRP_US</th>\n",
              "      <th>O_Id</th>\n",
              "      <th>O_Establ_Y</th>\n",
              "      <th>O_Size</th>\n",
              "      <th>I_Recalled</th>\n",
              "      <th>O_Loc_T</th>\n",
              "      <th>O_T</th>\n",
              "      <th>I_O_Sales</th>\n",
              "    </tr>\n",
              "  </thead>\n",
              "  <tbody>\n",
              "    <tr>\n",
              "      <th>0</th>\n",
              "      <td>156</td>\n",
              "      <td>0</td>\n",
              "      <td>0</td>\n",
              "      <td>0.016172</td>\n",
              "      <td>4</td>\n",
              "      <td>317.8092</td>\n",
              "      <td>9</td>\n",
              "      <td>2009</td>\n",
              "      <td>1</td>\n",
              "      <td>0</td>\n",
              "      <td>0</td>\n",
              "      <td>1</td>\n",
              "      <td>3915.1380</td>\n",
              "    </tr>\n",
              "    <tr>\n",
              "      <th>1</th>\n",
              "      <td>8</td>\n",
              "      <td>1</td>\n",
              "      <td>1</td>\n",
              "      <td>0.019403</td>\n",
              "      <td>14</td>\n",
              "      <td>116.2692</td>\n",
              "      <td>3</td>\n",
              "      <td>2019</td>\n",
              "      <td>1</td>\n",
              "      <td>1</td>\n",
              "      <td>2</td>\n",
              "      <td>0</td>\n",
              "      <td>623.4228</td>\n",
              "    </tr>\n",
              "    <tr>\n",
              "      <th>2</th>\n",
              "      <td>662</td>\n",
              "      <td>2</td>\n",
              "      <td>0</td>\n",
              "      <td>0.016885</td>\n",
              "      <td>10</td>\n",
              "      <td>209.6180</td>\n",
              "      <td>9</td>\n",
              "      <td>2009</td>\n",
              "      <td>1</td>\n",
              "      <td>0</td>\n",
              "      <td>0</td>\n",
              "      <td>1</td>\n",
              "      <td>2277.2700</td>\n",
              "    </tr>\n",
              "    <tr>\n",
              "      <th>3</th>\n",
              "      <td>1121</td>\n",
              "      <td>3</td>\n",
              "      <td>1</td>\n",
              "      <td>0.000000</td>\n",
              "      <td>6</td>\n",
              "      <td>250.0950</td>\n",
              "      <td>0</td>\n",
              "      <td>2008</td>\n",
              "      <td>1</td>\n",
              "      <td>0</td>\n",
              "      <td>2</td>\n",
              "      <td>3</td>\n",
              "      <td>912.3800</td>\n",
              "    </tr>\n",
              "    <tr>\n",
              "      <th>4</th>\n",
              "      <td>1297</td>\n",
              "      <td>4</td>\n",
              "      <td>0</td>\n",
              "      <td>0.000000</td>\n",
              "      <td>9</td>\n",
              "      <td>121.8614</td>\n",
              "      <td>1</td>\n",
              "      <td>1997</td>\n",
              "      <td>0</td>\n",
              "      <td>0</td>\n",
              "      <td>2</td>\n",
              "      <td>1</td>\n",
              "      <td>1174.7052</td>\n",
              "    </tr>\n",
              "  </tbody>\n",
              "</table>\n",
              "</div>\n",
              "      <button class=\"colab-df-convert\" onclick=\"convertToInteractive('df-7535679a-cfba-4e77-ac92-435dd14ca2d6')\"\n",
              "              title=\"Convert this dataframe to an interactive table.\"\n",
              "              style=\"display:none;\">\n",
              "        \n",
              "  <svg xmlns=\"http://www.w3.org/2000/svg\" height=\"24px\"viewBox=\"0 0 24 24\"\n",
              "       width=\"24px\">\n",
              "    <path d=\"M0 0h24v24H0V0z\" fill=\"none\"/>\n",
              "    <path d=\"M18.56 5.44l.94 2.06.94-2.06 2.06-.94-2.06-.94-.94-2.06-.94 2.06-2.06.94zm-11 1L8.5 8.5l.94-2.06 2.06-.94-2.06-.94L8.5 2.5l-.94 2.06-2.06.94zm10 10l.94 2.06.94-2.06 2.06-.94-2.06-.94-.94-2.06-.94 2.06-2.06.94z\"/><path d=\"M17.41 7.96l-1.37-1.37c-.4-.4-.92-.59-1.43-.59-.52 0-1.04.2-1.43.59L10.3 9.45l-7.72 7.72c-.78.78-.78 2.05 0 2.83L4 21.41c.39.39.9.59 1.41.59.51 0 1.02-.2 1.41-.59l7.78-7.78 2.81-2.81c.8-.78.8-2.07 0-2.86zM5.41 20L4 18.59l7.72-7.72 1.47 1.35L5.41 20z\"/>\n",
              "  </svg>\n",
              "      </button>\n",
              "      \n",
              "  <style>\n",
              "    .colab-df-container {\n",
              "      display:flex;\n",
              "      flex-wrap:wrap;\n",
              "      gap: 12px;\n",
              "    }\n",
              "\n",
              "    .colab-df-convert {\n",
              "      background-color: #E8F0FE;\n",
              "      border: none;\n",
              "      border-radius: 50%;\n",
              "      cursor: pointer;\n",
              "      display: none;\n",
              "      fill: #1967D2;\n",
              "      height: 32px;\n",
              "      padding: 0 0 0 0;\n",
              "      width: 32px;\n",
              "    }\n",
              "\n",
              "    .colab-df-convert:hover {\n",
              "      background-color: #E2EBFA;\n",
              "      box-shadow: 0px 1px 2px rgba(60, 64, 67, 0.3), 0px 1px 3px 1px rgba(60, 64, 67, 0.15);\n",
              "      fill: #174EA6;\n",
              "    }\n",
              "\n",
              "    [theme=dark] .colab-df-convert {\n",
              "      background-color: #3B4455;\n",
              "      fill: #D2E3FC;\n",
              "    }\n",
              "\n",
              "    [theme=dark] .colab-df-convert:hover {\n",
              "      background-color: #434B5C;\n",
              "      box-shadow: 0px 1px 3px 1px rgba(0, 0, 0, 0.15);\n",
              "      filter: drop-shadow(0px 1px 2px rgba(0, 0, 0, 0.3));\n",
              "      fill: #FFFFFF;\n",
              "    }\n",
              "  </style>\n",
              "\n",
              "      <script>\n",
              "        const buttonEl =\n",
              "          document.querySelector('#df-7535679a-cfba-4e77-ac92-435dd14ca2d6 button.colab-df-convert');\n",
              "        buttonEl.style.display =\n",
              "          google.colab.kernel.accessAllowed ? 'block' : 'none';\n",
              "\n",
              "        async function convertToInteractive(key) {\n",
              "          const element = document.querySelector('#df-7535679a-cfba-4e77-ac92-435dd14ca2d6');\n",
              "          const dataTable =\n",
              "            await google.colab.kernel.invokeFunction('convertToInteractive',\n",
              "                                                     [key], {});\n",
              "          if (!dataTable) return;\n",
              "\n",
              "          const docLinkHtml = 'Like what you see? Visit the ' +\n",
              "            '<a target=\"_blank\" href=https://colab.research.google.com/notebooks/data_table.ipynb>data table notebook</a>'\n",
              "            + ' to learn more about interactive tables.';\n",
              "          element.innerHTML = '';\n",
              "          dataTable['output_type'] = 'display_data';\n",
              "          await google.colab.output.renderOutput(dataTable, element);\n",
              "          const docLink = document.createElement('div');\n",
              "          docLink.innerHTML = docLinkHtml;\n",
              "          element.appendChild(docLink);\n",
              "        }\n",
              "      </script>\n",
              "    </div>\n",
              "  </div>\n",
              "  "
            ]
          },
          "metadata": {},
          "execution_count": 125
        }
      ]
    },
    {
      "cell_type": "code",
      "source": [
        "from sklearn.model_selection import train_test_split\n",
        "X=data.drop(['O_T'],axis=1)\n",
        "y=data['O_T']\n",
        "X_train , X_test, y_train, y_test =train_test_split(X,y,test_size=0.33,random_state=42)"
      ],
      "metadata": {
        "id": "cYVOXbL3uW18"
      },
      "execution_count": 126,
      "outputs": []
    },
    {
      "cell_type": "code",
      "source": [
        "X_train_zscore = (X_train - X_train.mean()) / X_train.std()\n",
        "X_test_zscore = (X_test - X_test.mean()) / X_test.std()"
      ],
      "metadata": {
        "id": "uWNoElxGx_Gd"
      },
      "execution_count": 127,
      "outputs": []
    },
    {
      "cell_type": "code",
      "source": [
        "def algorithm2(y_train,X_train,X_test):\n",
        "  alg=[]\n",
        "  for i in range(X_test.shape[0]):\n",
        "    distances=np.linalg.norm(X_train - X_test.iloc[i], axis=1)\n",
        "    k=3\n",
        "    nearest_neighbour_ids=distances.argsort()[:k]\n",
        "    nearest_neighbour_rings= y_train.iloc[nearest_neighbour_ids]\n",
        "    alg.append(nearest_neighbour_rings.mode()[0])\n",
        "  return alg"
      ],
      "metadata": {
        "id": "GW3kj-Ouu6dN"
      },
      "execution_count": 128,
      "outputs": []
    },
    {
      "cell_type": "code",
      "source": [
        "y_pred=algorithm2(y_train,X_train_zscore,X_test_zscore)"
      ],
      "metadata": {
        "id": "u16jAR1Cvftd"
      },
      "execution_count": 129,
      "outputs": []
    },
    {
      "cell_type": "code",
      "source": [
        "from sklearn.metrics import accuracy_score,precision_score, recall_score, f1_score"
      ],
      "metadata": {
        "id": "QSBVJNAvvhME"
      },
      "execution_count": 130,
      "outputs": []
    },
    {
      "cell_type": "code",
      "source": [
        "print(\"Accuracy: \",accuracy_score(y_test,y_pred))\n",
        "print(\"Precision: \",precision_score(y_test,y_pred, average = 'macro'))\n",
        "print(\"Recall: \",recall_score(y_test,y_pred, average = 'macro'))\n",
        "print(\"F1_score: \",f1_score(y_test,y_pred, average = 'macro'))"
      ],
      "metadata": {
        "colab": {
          "base_uri": "https://localhost:8080/"
        },
        "id": "PP784wptvB8g",
        "outputId": "56275de9-87fd-424c-e6d0-02c5668c8dad"
      },
      "execution_count": 131,
      "outputs": [
        {
          "output_type": "stream",
          "name": "stdout",
          "text": [
            "Accuracy:  0.9943121222893708\n",
            "Precision:  0.9910785872177352\n",
            "Recall:  0.992502499891309\n",
            "F1_score:  0.9916910758913449\n"
          ]
        }
      ]
    },
    {
      "cell_type": "code",
      "source": [
        "feature_range = (0,1)\n",
        "min = X_train.min(axis=0)\n",
        "scale = (X_train.max(axis=0) - X_train.min(axis = 0)) / (feature_range[1] - feature_range[0])\n",
        "\n",
        "X_train_minmax = (X_train - min) / scale\n",
        "min = X_test.min(axis=0)\n",
        "scale = (X_test.max(axis=0) - X_test.min(axis = 0)) / (feature_range[1] - feature_range[0])\n",
        "X_test_minmax = (X_test - min) / scale"
      ],
      "metadata": {
        "id": "Q8DiIK7iOkKE"
      },
      "execution_count": 132,
      "outputs": []
    },
    {
      "cell_type": "code",
      "source": [
        "y_pred=algorithm2(y_train,X_train_minmax,X_test_minmax)"
      ],
      "metadata": {
        "id": "f_Er08i0Qb4d"
      },
      "execution_count": 133,
      "outputs": []
    },
    {
      "cell_type": "code",
      "source": [
        "print(\"Accuracy: \",accuracy_score(y_test,y_pred))\n",
        "print(\"Precision: \",precision_score(y_test,y_pred, average = 'macro'))\n",
        "print(\"Recall: \",recall_score(y_test,y_pred, average = 'macro'))\n",
        "print(\"F1_score: \",f1_score(y_test,y_pred, average = 'macro'))"
      ],
      "metadata": {
        "colab": {
          "base_uri": "https://localhost:8080/"
        },
        "id": "jum7UdQAQcgf",
        "outputId": "9dd6b0ce-56f8-48c2-8359-02e0623575a1"
      },
      "execution_count": 134,
      "outputs": [
        {
          "output_type": "stream",
          "name": "stdout",
          "text": [
            "Accuracy:  0.9975115535015997\n",
            "Precision:  0.9983618126589887\n",
            "Recall:  0.9953208556149733\n",
            "F1_score:  0.996817888731675\n"
          ]
        }
      ]
    },
    {
      "cell_type": "code",
      "source": [
        "y_pred=algorithm2(y_train,X_train,X_test)"
      ],
      "metadata": {
        "id": "g205ynk3Qe3o"
      },
      "execution_count": 135,
      "outputs": []
    },
    {
      "cell_type": "code",
      "source": [
        "print(\"Accuracy: \",accuracy_score(y_test,y_pred))\n",
        "print(\"Precision: \",precision_score(y_test,y_pred, average = 'macro'))\n",
        "print(\"Recall: \",recall_score(y_test,y_pred, average = 'macro'))\n",
        "print(\"F1_score: \",f1_score(y_test,y_pred, average = 'macro'))"
      ],
      "metadata": {
        "id": "ChCJ-PieQ8eE",
        "outputId": "b64e5624-6e40-4a49-f419-2ef5cd0c9779",
        "colab": {
          "base_uri": "https://localhost:8080/"
        }
      },
      "execution_count": 136,
      "outputs": [
        {
          "output_type": "stream",
          "name": "stdout",
          "text": [
            "Accuracy:  0.6718805545680768\n",
            "Precision:  0.5068066395363016\n",
            "Recall:  0.46869204928457997\n",
            "F1_score:  0.47698474696511683\n"
          ]
        }
      ]
    },
    {
      "cell_type": "code",
      "source": [],
      "metadata": {
        "id": "CTPdqJL7Q9sg"
      },
      "execution_count": 136,
      "outputs": []
    }
  ]
}