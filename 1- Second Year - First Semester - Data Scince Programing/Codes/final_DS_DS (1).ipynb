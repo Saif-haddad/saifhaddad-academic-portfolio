{
  "nbformat": 4,
  "nbformat_minor": 0,
  "metadata": {
    "colab": {
      "provenance": []
    },
    "kernelspec": {
      "name": "python3",
      "display_name": "Python 3"
    },
    "language_info": {
      "name": "python"
    }
  },
  "cells": [
    {
      "cell_type": "code",
      "execution_count": 65,
      "metadata": {
        "id": "0LMWU7IhgsO_"
      },
      "outputs": [],
      "source": [
        "import numpy as np\n",
        "import pandas as pd\n",
        "import matplotlib.pyplot as plt\n",
        "import matplotlib.pyplot as plt\n",
        "import matplotlib.pyplot as plt"
      ]
    },
    {
      "cell_type": "code",
      "source": [
        "data=pd.read_csv(\"Complaints.csv\")\n",
        "data.head()"
      ],
      "metadata": {
        "colab": {
          "base_uri": "https://localhost:8080/",
          "height": 473
        },
        "id": "n3HkrNlU1_0h",
        "outputId": "8d1a06c3-ba91-4939-ec60-78c341a27a50"
      },
      "execution_count": 66,
      "outputs": [
        {
          "output_type": "execute_result",
          "data": {
            "text/plain": [
              "              CASE_ID      OFFER_NAME CUSTOMER_TYPE    CUSTOMER_GROUP  \\\n",
              "0  CAS-1060890-L3D6Q6       FTTH Home           CBU         FTTH Home   \n",
              "1   CAS-388567-W4B9Q3             NaN           CBU               NaN   \n",
              "2  CAS-1494939-L9F0X7  Bitstream Home           CBU  Wanadoo-ADSL-Res   \n",
              "3  CAS-1059985-K3Y9F7       FTTH Home           CBU         FTTH Home   \n",
              "4  CAS-1239942-Y1S2F5       FTTH Home           CBU         FTTH Home   \n",
              "\n",
              "  CURRENT_STATUS ESCALATION_FLAG ESCALATED_GROUP         OPEN_DATE  \\\n",
              "0       Resolved             Yes          F&I_BO  19.06.2022 06:07   \n",
              "1       Resolved             Yes       Mobile_BO  04.04.2022 14:11   \n",
              "2       Resolved              No             NaN  03.08.2022 03:20   \n",
              "3       Resolved              No             NaN  18.06.2022 20:38   \n",
              "4       Resolved              No             NaN  06.07.2022 01:22   \n",
              "\n",
              "     OPEN_USER        CLOSE_DATE  ... AGE_BRACKET      ACTUAL_COMPLAINT  \\\n",
              "0         DANA  21.06.2022 13:41  ...         2.0      Actual Complaint   \n",
              "1  TCRMService  05.04.2022 12:13  ...         1.0  Not Actual Complaint   \n",
              "2       MOUTAZ  03.08.2022 03:20  ...         1.0       User Not Filled   \n",
              "3        MOATH  18.06.2022 20:38  ...         1.0       User Not Filled   \n",
              "4      IBRAHIM  06.07.2022 01:22  ...         1.0       User Not Filled   \n",
              "\n",
              "   CALLBACK_MECHANISM RESOLUTION RESOLUTION_DESCRIPTION CASE_DESC  \\\n",
              "0               Phone        NaN                    NaN       NaN   \n",
              "1               Phone        NaN                    NaN       NaN   \n",
              "2                 NaN        NaN                    NaN       NaN   \n",
              "3                 NaN        NaN                    NaN       NaN   \n",
              "4                 NaN        NaN                    NaN       NaN   \n",
              "\n",
              "                     OPEN_GR COMPLAINT_TYPE   PRODUCT                 CASE  \n",
              "0  CBU / EBU - personal view      Technical  Internet  Technical complaint  \n",
              "1       System Administrator     Commercial    Mobile     Commercial claim  \n",
              "2      CBU - CC 1st Layer A       Technical  Internet  Technical complaint  \n",
              "3                        NaN      Technical  Internet  Technical complaint  \n",
              "4      CBU - CC 1st Layer A       Technical  Internet  Technical complaint  \n",
              "\n",
              "[5 rows x 22 columns]"
            ],
            "text/html": [
              "\n",
              "  <div id=\"df-eb648af4-cc41-420d-a435-352b69d56bee\">\n",
              "    <div class=\"colab-df-container\">\n",
              "      <div>\n",
              "<style scoped>\n",
              "    .dataframe tbody tr th:only-of-type {\n",
              "        vertical-align: middle;\n",
              "    }\n",
              "\n",
              "    .dataframe tbody tr th {\n",
              "        vertical-align: top;\n",
              "    }\n",
              "\n",
              "    .dataframe thead th {\n",
              "        text-align: right;\n",
              "    }\n",
              "</style>\n",
              "<table border=\"1\" class=\"dataframe\">\n",
              "  <thead>\n",
              "    <tr style=\"text-align: right;\">\n",
              "      <th></th>\n",
              "      <th>CASE_ID</th>\n",
              "      <th>OFFER_NAME</th>\n",
              "      <th>CUSTOMER_TYPE</th>\n",
              "      <th>CUSTOMER_GROUP</th>\n",
              "      <th>CURRENT_STATUS</th>\n",
              "      <th>ESCALATION_FLAG</th>\n",
              "      <th>ESCALATED_GROUP</th>\n",
              "      <th>OPEN_DATE</th>\n",
              "      <th>OPEN_USER</th>\n",
              "      <th>CLOSE_DATE</th>\n",
              "      <th>...</th>\n",
              "      <th>AGE_BRACKET</th>\n",
              "      <th>ACTUAL_COMPLAINT</th>\n",
              "      <th>CALLBACK_MECHANISM</th>\n",
              "      <th>RESOLUTION</th>\n",
              "      <th>RESOLUTION_DESCRIPTION</th>\n",
              "      <th>CASE_DESC</th>\n",
              "      <th>OPEN_GR</th>\n",
              "      <th>COMPLAINT_TYPE</th>\n",
              "      <th>PRODUCT</th>\n",
              "      <th>CASE</th>\n",
              "    </tr>\n",
              "  </thead>\n",
              "  <tbody>\n",
              "    <tr>\n",
              "      <th>0</th>\n",
              "      <td>CAS-1060890-L3D6Q6</td>\n",
              "      <td>FTTH Home</td>\n",
              "      <td>CBU</td>\n",
              "      <td>FTTH Home</td>\n",
              "      <td>Resolved</td>\n",
              "      <td>Yes</td>\n",
              "      <td>F&amp;I_BO</td>\n",
              "      <td>19.06.2022 06:07</td>\n",
              "      <td>DANA</td>\n",
              "      <td>21.06.2022 13:41</td>\n",
              "      <td>...</td>\n",
              "      <td>2.0</td>\n",
              "      <td>Actual Complaint</td>\n",
              "      <td>Phone</td>\n",
              "      <td>NaN</td>\n",
              "      <td>NaN</td>\n",
              "      <td>NaN</td>\n",
              "      <td>CBU / EBU - personal view</td>\n",
              "      <td>Technical</td>\n",
              "      <td>Internet</td>\n",
              "      <td>Technical complaint</td>\n",
              "    </tr>\n",
              "    <tr>\n",
              "      <th>1</th>\n",
              "      <td>CAS-388567-W4B9Q3</td>\n",
              "      <td>NaN</td>\n",
              "      <td>CBU</td>\n",
              "      <td>NaN</td>\n",
              "      <td>Resolved</td>\n",
              "      <td>Yes</td>\n",
              "      <td>Mobile_BO</td>\n",
              "      <td>04.04.2022 14:11</td>\n",
              "      <td>TCRMService</td>\n",
              "      <td>05.04.2022 12:13</td>\n",
              "      <td>...</td>\n",
              "      <td>1.0</td>\n",
              "      <td>Not Actual Complaint</td>\n",
              "      <td>Phone</td>\n",
              "      <td>NaN</td>\n",
              "      <td>NaN</td>\n",
              "      <td>NaN</td>\n",
              "      <td>System Administrator</td>\n",
              "      <td>Commercial</td>\n",
              "      <td>Mobile</td>\n",
              "      <td>Commercial claim</td>\n",
              "    </tr>\n",
              "    <tr>\n",
              "      <th>2</th>\n",
              "      <td>CAS-1494939-L9F0X7</td>\n",
              "      <td>Bitstream Home</td>\n",
              "      <td>CBU</td>\n",
              "      <td>Wanadoo-ADSL-Res</td>\n",
              "      <td>Resolved</td>\n",
              "      <td>No</td>\n",
              "      <td>NaN</td>\n",
              "      <td>03.08.2022 03:20</td>\n",
              "      <td>MOUTAZ</td>\n",
              "      <td>03.08.2022 03:20</td>\n",
              "      <td>...</td>\n",
              "      <td>1.0</td>\n",
              "      <td>User Not Filled</td>\n",
              "      <td>NaN</td>\n",
              "      <td>NaN</td>\n",
              "      <td>NaN</td>\n",
              "      <td>NaN</td>\n",
              "      <td>CBU - CC 1st Layer A</td>\n",
              "      <td>Technical</td>\n",
              "      <td>Internet</td>\n",
              "      <td>Technical complaint</td>\n",
              "    </tr>\n",
              "    <tr>\n",
              "      <th>3</th>\n",
              "      <td>CAS-1059985-K3Y9F7</td>\n",
              "      <td>FTTH Home</td>\n",
              "      <td>CBU</td>\n",
              "      <td>FTTH Home</td>\n",
              "      <td>Resolved</td>\n",
              "      <td>No</td>\n",
              "      <td>NaN</td>\n",
              "      <td>18.06.2022 20:38</td>\n",
              "      <td>MOATH</td>\n",
              "      <td>18.06.2022 20:38</td>\n",
              "      <td>...</td>\n",
              "      <td>1.0</td>\n",
              "      <td>User Not Filled</td>\n",
              "      <td>NaN</td>\n",
              "      <td>NaN</td>\n",
              "      <td>NaN</td>\n",
              "      <td>NaN</td>\n",
              "      <td>NaN</td>\n",
              "      <td>Technical</td>\n",
              "      <td>Internet</td>\n",
              "      <td>Technical complaint</td>\n",
              "    </tr>\n",
              "    <tr>\n",
              "      <th>4</th>\n",
              "      <td>CAS-1239942-Y1S2F5</td>\n",
              "      <td>FTTH Home</td>\n",
              "      <td>CBU</td>\n",
              "      <td>FTTH Home</td>\n",
              "      <td>Resolved</td>\n",
              "      <td>No</td>\n",
              "      <td>NaN</td>\n",
              "      <td>06.07.2022 01:22</td>\n",
              "      <td>IBRAHIM</td>\n",
              "      <td>06.07.2022 01:22</td>\n",
              "      <td>...</td>\n",
              "      <td>1.0</td>\n",
              "      <td>User Not Filled</td>\n",
              "      <td>NaN</td>\n",
              "      <td>NaN</td>\n",
              "      <td>NaN</td>\n",
              "      <td>NaN</td>\n",
              "      <td>CBU - CC 1st Layer A</td>\n",
              "      <td>Technical</td>\n",
              "      <td>Internet</td>\n",
              "      <td>Technical complaint</td>\n",
              "    </tr>\n",
              "  </tbody>\n",
              "</table>\n",
              "<p>5 rows × 22 columns</p>\n",
              "</div>\n",
              "      <button class=\"colab-df-convert\" onclick=\"convertToInteractive('df-eb648af4-cc41-420d-a435-352b69d56bee')\"\n",
              "              title=\"Convert this dataframe to an interactive table.\"\n",
              "              style=\"display:none;\">\n",
              "        \n",
              "  <svg xmlns=\"http://www.w3.org/2000/svg\" height=\"24px\"viewBox=\"0 0 24 24\"\n",
              "       width=\"24px\">\n",
              "    <path d=\"M0 0h24v24H0V0z\" fill=\"none\"/>\n",
              "    <path d=\"M18.56 5.44l.94 2.06.94-2.06 2.06-.94-2.06-.94-.94-2.06-.94 2.06-2.06.94zm-11 1L8.5 8.5l.94-2.06 2.06-.94-2.06-.94L8.5 2.5l-.94 2.06-2.06.94zm10 10l.94 2.06.94-2.06 2.06-.94-2.06-.94-.94-2.06-.94 2.06-2.06.94z\"/><path d=\"M17.41 7.96l-1.37-1.37c-.4-.4-.92-.59-1.43-.59-.52 0-1.04.2-1.43.59L10.3 9.45l-7.72 7.72c-.78.78-.78 2.05 0 2.83L4 21.41c.39.39.9.59 1.41.59.51 0 1.02-.2 1.41-.59l7.78-7.78 2.81-2.81c.8-.78.8-2.07 0-2.86zM5.41 20L4 18.59l7.72-7.72 1.47 1.35L5.41 20z\"/>\n",
              "  </svg>\n",
              "      </button>\n",
              "      \n",
              "  <style>\n",
              "    .colab-df-container {\n",
              "      display:flex;\n",
              "      flex-wrap:wrap;\n",
              "      gap: 12px;\n",
              "    }\n",
              "\n",
              "    .colab-df-convert {\n",
              "      background-color: #E8F0FE;\n",
              "      border: none;\n",
              "      border-radius: 50%;\n",
              "      cursor: pointer;\n",
              "      display: none;\n",
              "      fill: #1967D2;\n",
              "      height: 32px;\n",
              "      padding: 0 0 0 0;\n",
              "      width: 32px;\n",
              "    }\n",
              "\n",
              "    .colab-df-convert:hover {\n",
              "      background-color: #E2EBFA;\n",
              "      box-shadow: 0px 1px 2px rgba(60, 64, 67, 0.3), 0px 1px 3px 1px rgba(60, 64, 67, 0.15);\n",
              "      fill: #174EA6;\n",
              "    }\n",
              "\n",
              "    [theme=dark] .colab-df-convert {\n",
              "      background-color: #3B4455;\n",
              "      fill: #D2E3FC;\n",
              "    }\n",
              "\n",
              "    [theme=dark] .colab-df-convert:hover {\n",
              "      background-color: #434B5C;\n",
              "      box-shadow: 0px 1px 3px 1px rgba(0, 0, 0, 0.15);\n",
              "      filter: drop-shadow(0px 1px 2px rgba(0, 0, 0, 0.3));\n",
              "      fill: #FFFFFF;\n",
              "    }\n",
              "  </style>\n",
              "\n",
              "      <script>\n",
              "        const buttonEl =\n",
              "          document.querySelector('#df-eb648af4-cc41-420d-a435-352b69d56bee button.colab-df-convert');\n",
              "        buttonEl.style.display =\n",
              "          google.colab.kernel.accessAllowed ? 'block' : 'none';\n",
              "\n",
              "        async function convertToInteractive(key) {\n",
              "          const element = document.querySelector('#df-eb648af4-cc41-420d-a435-352b69d56bee');\n",
              "          const dataTable =\n",
              "            await google.colab.kernel.invokeFunction('convertToInteractive',\n",
              "                                                     [key], {});\n",
              "          if (!dataTable) return;\n",
              "\n",
              "          const docLinkHtml = 'Like what you see? Visit the ' +\n",
              "            '<a target=\"_blank\" href=https://colab.research.google.com/notebooks/data_table.ipynb>data table notebook</a>'\n",
              "            + ' to learn more about interactive tables.';\n",
              "          element.innerHTML = '';\n",
              "          dataTable['output_type'] = 'display_data';\n",
              "          await google.colab.output.renderOutput(dataTable, element);\n",
              "          const docLink = document.createElement('div');\n",
              "          docLink.innerHTML = docLinkHtml;\n",
              "          element.appendChild(docLink);\n",
              "        }\n",
              "      </script>\n",
              "    </div>\n",
              "  </div>\n",
              "  "
            ]
          },
          "metadata": {},
          "execution_count": 66
        }
      ]
    },
    {
      "cell_type": "code",
      "source": [
        "del data['CASE_ID']"
      ],
      "metadata": {
        "id": "WMGouNchEmas"
      },
      "execution_count": 67,
      "outputs": []
    },
    {
      "cell_type": "code",
      "source": [
        "del data ['OPEN_DATE']"
      ],
      "metadata": {
        "id": "paWpEYVZFAVC"
      },
      "execution_count": 68,
      "outputs": []
    },
    {
      "cell_type": "code",
      "source": [
        "del data['CLOSE_DATE']"
      ],
      "metadata": {
        "id": "etWJMiu3FIQM"
      },
      "execution_count": 69,
      "outputs": []
    },
    {
      "cell_type": "code",
      "source": [
        "del data['RESOLUTION']"
      ],
      "metadata": {
        "id": "268Dl3XkS5wO"
      },
      "execution_count": 70,
      "outputs": []
    },
    {
      "cell_type": "code",
      "source": [
        "del data['RESOLUTION_DESCRIPTION']"
      ],
      "metadata": {
        "id": "SlxirrLLTBFx"
      },
      "execution_count": 71,
      "outputs": []
    },
    {
      "cell_type": "code",
      "source": [
        "del data['CASE_DESC']"
      ],
      "metadata": {
        "id": "ZMtVsf3bbeKg"
      },
      "execution_count": 72,
      "outputs": []
    },
    {
      "cell_type": "code",
      "source": [
        "del data['OPEN_USER']"
      ],
      "metadata": {
        "id": "C5L8PG4tXT0-"
      },
      "execution_count": 73,
      "outputs": []
    },
    {
      "cell_type": "code",
      "source": [
        "del data['CLOSE_USER']"
      ],
      "metadata": {
        "id": "BJQlde7wXb1b"
      },
      "execution_count": 74,
      "outputs": []
    },
    {
      "cell_type": "code",
      "source": [
        "data.isnull().sum()"
      ],
      "metadata": {
        "id": "jixY_f90EvJn",
        "colab": {
          "base_uri": "https://localhost:8080/"
        },
        "outputId": "db540066-72bf-4e55-a277-5794cefcee75"
      },
      "execution_count": 75,
      "outputs": [
        {
          "output_type": "execute_result",
          "data": {
            "text/plain": [
              "OFFER_NAME            1293\n",
              "CUSTOMER_TYPE            0\n",
              "CUSTOMER_GROUP        1348\n",
              "CURRENT_STATUS           0\n",
              "ESCALATION_FLAG          0\n",
              "ESCALATED_GROUP       7055\n",
              "CLOSE_GROUP           4890\n",
              "AGE_BRACKET            119\n",
              "ACTUAL_COMPLAINT         0\n",
              "CALLBACK_MECHANISM    7277\n",
              "OPEN_GR               4561\n",
              "COMPLAINT_TYPE           0\n",
              "PRODUCT                  0\n",
              "CASE                     0\n",
              "dtype: int64"
            ]
          },
          "metadata": {},
          "execution_count": 75
        }
      ]
    },
    {
      "cell_type": "code",
      "source": [
        "data[\"OFFER_NAME\"].value_counts()"
      ],
      "metadata": {
        "id": "Wlhn483nN6BQ",
        "colab": {
          "base_uri": "https://localhost:8080/"
        },
        "outputId": "73a482b2-a89e-48d8-c7e3-221246ac39c6"
      },
      "execution_count": 76,
      "outputs": [
        {
          "output_type": "execute_result",
          "data": {
            "text/plain": [
              "FTTH Home                 3914\n",
              "Bitstream Home            2787\n",
              "OnLine Prepaid             895\n",
              "Eagle Army Cell            269\n",
              "Orange IEW 4G 1TB - 2Y     118\n",
              "                          ... \n",
              "GAM CC3 PreCorp              1\n",
              "Orange IEW 4G 2TB            1\n",
              "Orange IEW 4G 500GB          1\n",
              "Pruned-447                   1\n",
              "Crystal5                     1\n",
              "Name: OFFER_NAME, Length: 140, dtype: int64"
            ]
          },
          "metadata": {},
          "execution_count": 76
        }
      ]
    },
    {
      "cell_type": "code",
      "source": [
        "data['OFFER_NAME'].fillna('UNKNOWN', inplace = True)\n",
        "data.head()"
      ],
      "metadata": {
        "id": "VU8KYu83fQ00",
        "colab": {
          "base_uri": "https://localhost:8080/",
          "height": 374
        },
        "outputId": "c738310f-bf7b-4b60-90e6-835630861a7e"
      },
      "execution_count": 77,
      "outputs": [
        {
          "output_type": "execute_result",
          "data": {
            "text/plain": [
              "       OFFER_NAME CUSTOMER_TYPE    CUSTOMER_GROUP CURRENT_STATUS  \\\n",
              "0       FTTH Home           CBU         FTTH Home       Resolved   \n",
              "1         UNKNOWN           CBU               NaN       Resolved   \n",
              "2  Bitstream Home           CBU  Wanadoo-ADSL-Res       Resolved   \n",
              "3       FTTH Home           CBU         FTTH Home       Resolved   \n",
              "4       FTTH Home           CBU         FTTH Home       Resolved   \n",
              "\n",
              "  ESCALATION_FLAG ESCALATED_GROUP          CLOSE_GROUP  AGE_BRACKET  \\\n",
              "0             Yes          F&I_BO               F&I_BO          2.0   \n",
              "1             Yes       Mobile_BO            Mobile_BO          1.0   \n",
              "2              No             NaN  CYC_COMMERCAIL_TEAM          1.0   \n",
              "3              No             NaN                  NaN          1.0   \n",
              "4              No             NaN  CYC_COMMERCAIL_TEAM          1.0   \n",
              "\n",
              "       ACTUAL_COMPLAINT CALLBACK_MECHANISM                    OPEN_GR  \\\n",
              "0      Actual Complaint              Phone  CBU / EBU - personal view   \n",
              "1  Not Actual Complaint              Phone       System Administrator   \n",
              "2       User Not Filled                NaN      CBU - CC 1st Layer A    \n",
              "3       User Not Filled                NaN                        NaN   \n",
              "4       User Not Filled                NaN      CBU - CC 1st Layer A    \n",
              "\n",
              "  COMPLAINT_TYPE   PRODUCT                 CASE  \n",
              "0      Technical  Internet  Technical complaint  \n",
              "1     Commercial    Mobile     Commercial claim  \n",
              "2      Technical  Internet  Technical complaint  \n",
              "3      Technical  Internet  Technical complaint  \n",
              "4      Technical  Internet  Technical complaint  "
            ],
            "text/html": [
              "\n",
              "  <div id=\"df-5d523eb3-a9c7-462b-add8-faf8bed8f270\">\n",
              "    <div class=\"colab-df-container\">\n",
              "      <div>\n",
              "<style scoped>\n",
              "    .dataframe tbody tr th:only-of-type {\n",
              "        vertical-align: middle;\n",
              "    }\n",
              "\n",
              "    .dataframe tbody tr th {\n",
              "        vertical-align: top;\n",
              "    }\n",
              "\n",
              "    .dataframe thead th {\n",
              "        text-align: right;\n",
              "    }\n",
              "</style>\n",
              "<table border=\"1\" class=\"dataframe\">\n",
              "  <thead>\n",
              "    <tr style=\"text-align: right;\">\n",
              "      <th></th>\n",
              "      <th>OFFER_NAME</th>\n",
              "      <th>CUSTOMER_TYPE</th>\n",
              "      <th>CUSTOMER_GROUP</th>\n",
              "      <th>CURRENT_STATUS</th>\n",
              "      <th>ESCALATION_FLAG</th>\n",
              "      <th>ESCALATED_GROUP</th>\n",
              "      <th>CLOSE_GROUP</th>\n",
              "      <th>AGE_BRACKET</th>\n",
              "      <th>ACTUAL_COMPLAINT</th>\n",
              "      <th>CALLBACK_MECHANISM</th>\n",
              "      <th>OPEN_GR</th>\n",
              "      <th>COMPLAINT_TYPE</th>\n",
              "      <th>PRODUCT</th>\n",
              "      <th>CASE</th>\n",
              "    </tr>\n",
              "  </thead>\n",
              "  <tbody>\n",
              "    <tr>\n",
              "      <th>0</th>\n",
              "      <td>FTTH Home</td>\n",
              "      <td>CBU</td>\n",
              "      <td>FTTH Home</td>\n",
              "      <td>Resolved</td>\n",
              "      <td>Yes</td>\n",
              "      <td>F&amp;I_BO</td>\n",
              "      <td>F&amp;I_BO</td>\n",
              "      <td>2.0</td>\n",
              "      <td>Actual Complaint</td>\n",
              "      <td>Phone</td>\n",
              "      <td>CBU / EBU - personal view</td>\n",
              "      <td>Technical</td>\n",
              "      <td>Internet</td>\n",
              "      <td>Technical complaint</td>\n",
              "    </tr>\n",
              "    <tr>\n",
              "      <th>1</th>\n",
              "      <td>UNKNOWN</td>\n",
              "      <td>CBU</td>\n",
              "      <td>NaN</td>\n",
              "      <td>Resolved</td>\n",
              "      <td>Yes</td>\n",
              "      <td>Mobile_BO</td>\n",
              "      <td>Mobile_BO</td>\n",
              "      <td>1.0</td>\n",
              "      <td>Not Actual Complaint</td>\n",
              "      <td>Phone</td>\n",
              "      <td>System Administrator</td>\n",
              "      <td>Commercial</td>\n",
              "      <td>Mobile</td>\n",
              "      <td>Commercial claim</td>\n",
              "    </tr>\n",
              "    <tr>\n",
              "      <th>2</th>\n",
              "      <td>Bitstream Home</td>\n",
              "      <td>CBU</td>\n",
              "      <td>Wanadoo-ADSL-Res</td>\n",
              "      <td>Resolved</td>\n",
              "      <td>No</td>\n",
              "      <td>NaN</td>\n",
              "      <td>CYC_COMMERCAIL_TEAM</td>\n",
              "      <td>1.0</td>\n",
              "      <td>User Not Filled</td>\n",
              "      <td>NaN</td>\n",
              "      <td>CBU - CC 1st Layer A</td>\n",
              "      <td>Technical</td>\n",
              "      <td>Internet</td>\n",
              "      <td>Technical complaint</td>\n",
              "    </tr>\n",
              "    <tr>\n",
              "      <th>3</th>\n",
              "      <td>FTTH Home</td>\n",
              "      <td>CBU</td>\n",
              "      <td>FTTH Home</td>\n",
              "      <td>Resolved</td>\n",
              "      <td>No</td>\n",
              "      <td>NaN</td>\n",
              "      <td>NaN</td>\n",
              "      <td>1.0</td>\n",
              "      <td>User Not Filled</td>\n",
              "      <td>NaN</td>\n",
              "      <td>NaN</td>\n",
              "      <td>Technical</td>\n",
              "      <td>Internet</td>\n",
              "      <td>Technical complaint</td>\n",
              "    </tr>\n",
              "    <tr>\n",
              "      <th>4</th>\n",
              "      <td>FTTH Home</td>\n",
              "      <td>CBU</td>\n",
              "      <td>FTTH Home</td>\n",
              "      <td>Resolved</td>\n",
              "      <td>No</td>\n",
              "      <td>NaN</td>\n",
              "      <td>CYC_COMMERCAIL_TEAM</td>\n",
              "      <td>1.0</td>\n",
              "      <td>User Not Filled</td>\n",
              "      <td>NaN</td>\n",
              "      <td>CBU - CC 1st Layer A</td>\n",
              "      <td>Technical</td>\n",
              "      <td>Internet</td>\n",
              "      <td>Technical complaint</td>\n",
              "    </tr>\n",
              "  </tbody>\n",
              "</table>\n",
              "</div>\n",
              "      <button class=\"colab-df-convert\" onclick=\"convertToInteractive('df-5d523eb3-a9c7-462b-add8-faf8bed8f270')\"\n",
              "              title=\"Convert this dataframe to an interactive table.\"\n",
              "              style=\"display:none;\">\n",
              "        \n",
              "  <svg xmlns=\"http://www.w3.org/2000/svg\" height=\"24px\"viewBox=\"0 0 24 24\"\n",
              "       width=\"24px\">\n",
              "    <path d=\"M0 0h24v24H0V0z\" fill=\"none\"/>\n",
              "    <path d=\"M18.56 5.44l.94 2.06.94-2.06 2.06-.94-2.06-.94-.94-2.06-.94 2.06-2.06.94zm-11 1L8.5 8.5l.94-2.06 2.06-.94-2.06-.94L8.5 2.5l-.94 2.06-2.06.94zm10 10l.94 2.06.94-2.06 2.06-.94-2.06-.94-.94-2.06-.94 2.06-2.06.94z\"/><path d=\"M17.41 7.96l-1.37-1.37c-.4-.4-.92-.59-1.43-.59-.52 0-1.04.2-1.43.59L10.3 9.45l-7.72 7.72c-.78.78-.78 2.05 0 2.83L4 21.41c.39.39.9.59 1.41.59.51 0 1.02-.2 1.41-.59l7.78-7.78 2.81-2.81c.8-.78.8-2.07 0-2.86zM5.41 20L4 18.59l7.72-7.72 1.47 1.35L5.41 20z\"/>\n",
              "  </svg>\n",
              "      </button>\n",
              "      \n",
              "  <style>\n",
              "    .colab-df-container {\n",
              "      display:flex;\n",
              "      flex-wrap:wrap;\n",
              "      gap: 12px;\n",
              "    }\n",
              "\n",
              "    .colab-df-convert {\n",
              "      background-color: #E8F0FE;\n",
              "      border: none;\n",
              "      border-radius: 50%;\n",
              "      cursor: pointer;\n",
              "      display: none;\n",
              "      fill: #1967D2;\n",
              "      height: 32px;\n",
              "      padding: 0 0 0 0;\n",
              "      width: 32px;\n",
              "    }\n",
              "\n",
              "    .colab-df-convert:hover {\n",
              "      background-color: #E2EBFA;\n",
              "      box-shadow: 0px 1px 2px rgba(60, 64, 67, 0.3), 0px 1px 3px 1px rgba(60, 64, 67, 0.15);\n",
              "      fill: #174EA6;\n",
              "    }\n",
              "\n",
              "    [theme=dark] .colab-df-convert {\n",
              "      background-color: #3B4455;\n",
              "      fill: #D2E3FC;\n",
              "    }\n",
              "\n",
              "    [theme=dark] .colab-df-convert:hover {\n",
              "      background-color: #434B5C;\n",
              "      box-shadow: 0px 1px 3px 1px rgba(0, 0, 0, 0.15);\n",
              "      filter: drop-shadow(0px 1px 2px rgba(0, 0, 0, 0.3));\n",
              "      fill: #FFFFFF;\n",
              "    }\n",
              "  </style>\n",
              "\n",
              "      <script>\n",
              "        const buttonEl =\n",
              "          document.querySelector('#df-5d523eb3-a9c7-462b-add8-faf8bed8f270 button.colab-df-convert');\n",
              "        buttonEl.style.display =\n",
              "          google.colab.kernel.accessAllowed ? 'block' : 'none';\n",
              "\n",
              "        async function convertToInteractive(key) {\n",
              "          const element = document.querySelector('#df-5d523eb3-a9c7-462b-add8-faf8bed8f270');\n",
              "          const dataTable =\n",
              "            await google.colab.kernel.invokeFunction('convertToInteractive',\n",
              "                                                     [key], {});\n",
              "          if (!dataTable) return;\n",
              "\n",
              "          const docLinkHtml = 'Like what you see? Visit the ' +\n",
              "            '<a target=\"_blank\" href=https://colab.research.google.com/notebooks/data_table.ipynb>data table notebook</a>'\n",
              "            + ' to learn more about interactive tables.';\n",
              "          element.innerHTML = '';\n",
              "          dataTable['output_type'] = 'display_data';\n",
              "          await google.colab.output.renderOutput(dataTable, element);\n",
              "          const docLink = document.createElement('div');\n",
              "          docLink.innerHTML = docLinkHtml;\n",
              "          element.appendChild(docLink);\n",
              "        }\n",
              "      </script>\n",
              "    </div>\n",
              "  </div>\n",
              "  "
            ]
          },
          "metadata": {},
          "execution_count": 77
        }
      ]
    },
    {
      "cell_type": "code",
      "source": [
        "data['AGE_BRACKET'].fillna('ACTIVE', inplace = True)"
      ],
      "metadata": {
        "id": "6mZt08cBqy90"
      },
      "execution_count": 78,
      "outputs": []
    },
    {
      "cell_type": "code",
      "source": [
        "data['CUSTOMER_GROUP'].value_counts()\n"
      ],
      "metadata": {
        "id": "E3wZEu-kraFo",
        "colab": {
          "base_uri": "https://localhost:8080/"
        },
        "outputId": "e35efd2b-c866-40df-8f71-192e542f93d8"
      },
      "execution_count": 79,
      "outputs": [
        {
          "output_type": "execute_result",
          "data": {
            "text/plain": [
              "FTTH Home                  3648\n",
              "Wanadoo-ADSL-Res           2465\n",
              "Prepaid                    1323\n",
              "Internet everywhere IEW     309\n",
              "IP Test                     183\n",
              "                           ... \n",
              "Emp and family ADSL           1\n",
              "Solo and Soho                 1\n",
              "Army. APVPN Enterprise        1\n",
              "GOV.. ADSL Enterprise         1\n",
              "Premium Internet              1\n",
              "Name: CUSTOMER_GROUP, Length: 73, dtype: int64"
            ]
          },
          "metadata": {},
          "execution_count": 79
        }
      ]
    },
    {
      "cell_type": "code",
      "source": [
        "data['CUSTOMER_GROUP']=data['CUSTOMER_GROUP'].fillna(data['CUSTOMER_GROUP'].mode()[0])\n"
      ],
      "metadata": {
        "id": "Vb0_MJFrGHwX"
      },
      "execution_count": 80,
      "outputs": []
    },
    {
      "cell_type": "code",
      "source": [
        "data['ESCALATED_GROUP'].fillna('Not Escalated', inplace = True)"
      ],
      "metadata": {
        "id": "_YCUTu2VNZcU"
      },
      "execution_count": 81,
      "outputs": []
    },
    {
      "cell_type": "code",
      "source": [
        "data['CALLBACK_MECHANISM'].value_counts()"
      ],
      "metadata": {
        "id": "bvRP1ZfbVlGL",
        "colab": {
          "base_uri": "https://localhost:8080/"
        },
        "outputId": "e3873c57-af5a-445c-a4ff-2c6cc3c284e5"
      },
      "execution_count": 82,
      "outputs": [
        {
          "output_type": "execute_result",
          "data": {
            "text/plain": [
              "SMS            1419\n",
              "Phone          1361\n",
              "E-mail          345\n",
              "Auto Dialer      13\n",
              "Name: CALLBACK_MECHANISM, dtype: int64"
            ]
          },
          "metadata": {},
          "execution_count": 82
        }
      ]
    },
    {
      "cell_type": "code",
      "source": [
        "data['CALLBACK_MECHANISM']=data['CALLBACK_MECHANISM'].fillna(np.random.choice(['SMS','Phone'],p=[0.5,0.5]))"
      ],
      "metadata": {
        "id": "eIspgQ4tHRz1"
      },
      "execution_count": 83,
      "outputs": []
    },
    {
      "cell_type": "code",
      "source": [
        "probability = data['OPEN_GR'].value_counts() / data['OPEN_GR'].count()\n",
        "data['OPEN_GR'] = data['OPEN_GR'].fillna(pd.Series(np.random.choice(list(probability.index), p=probability, size=len(data))))"
      ],
      "metadata": {
        "id": "EDTZq1quWBFA"
      },
      "execution_count": 84,
      "outputs": []
    },
    {
      "cell_type": "code",
      "source": [
        "probability = data['CLOSE_GROUP'].value_counts() / data['CLOSE_GROUP'].count()\n",
        "data['CLOSE_GROUP'] = data['CLOSE_GROUP'].fillna(pd.Series(np.random.choice(list(probability.index), p=probability, size=len(data))))"
      ],
      "metadata": {
        "id": "I-0U5W0AUSu_"
      },
      "execution_count": 85,
      "outputs": []
    },
    {
      "cell_type": "code",
      "source": [
        "data['CLOSE_GROUP'].value_counts()"
      ],
      "metadata": {
        "id": "XzemJzp8uXm0",
        "colab": {
          "base_uri": "https://localhost:8080/"
        },
        "outputId": "7ddb1c18-b8ef-4c7a-95ac-0204e25b5cc9"
      },
      "execution_count": 86,
      "outputs": [
        {
          "output_type": "execute_result",
          "data": {
            "text/plain": [
              "CYC_COMMERCAIL_TEAM               2566\n",
              "F&I_BO                            1290\n",
              "Mobile_BO                         1230\n",
              "CBU A– OJO CC 1st Layer            821\n",
              "CBU A– CYC CC 1st Layer            811\n",
              "ORANGE_MONEY_BO                    783\n",
              "CBU/EBU A– ARS MTT                 638\n",
              "CENTRALIZED_BACK_OFFICE            317\n",
              "Disputes_BO                        309\n",
              "CBU – OJO CC 1st Layer             262\n",
              "OW_SWEIFIEH_West                   194\n",
              "CCU & FTTH field Sales             138\n",
              "Sales_Devices_BO                   120\n",
              "OW_MECCAMALL_West                  102\n",
              "Nokia_BO                            87\n",
              "EBU - Contact Center CC Pro         68\n",
              "Delivery_BO                         64\n",
              "Risk_BO                             59\n",
              "EBU - Contact Center Complaint      58\n",
              "CBU/EBU – ARS MTT                   53\n",
              "Telesales_Sales_BO                  53\n",
              "Collection_BO                       50\n",
              "EBU - Contact Center CC             49\n",
              "OW_TLAALALI_West                    46\n",
              "ITN-OSP complaints                  44\n",
              "ESHOP_BO                            34\n",
              "Activation_BO                       33\n",
              "Refund_M&I_BO                       29\n",
              "CYC_OUTBOUND_TEAM                   24\n",
              "Switching_BO                        20\n",
              "CBU – CYC CC 1st Layer              13\n",
              "Hayyak_BO                           12\n",
              "OW_IRBIDUNIVERSITY_North             7\n",
              "OW_MADABA_West                       7\n",
              "Provisining_BO                       4\n",
              "FS_WEHDAT_East                       4\n",
              "FS_IRBIDCITYCENTER_North             3\n",
              "FS_MARJALHAMAM_West                  3\n",
              "OW_EINELBASHA_West                   2\n",
              "FS_IRBID30STREET_North               2\n",
              "OW_ZARQAKINGHUSSIEN_East             1\n",
              "CBU A– OJÂÂO CC 1st Layer            1\n",
              "FS_ISTEKLALMALL_East                 1\n",
              "Refund_F_BO                          1\n",
              "FS_CITYMALL_West                     1\n",
              "OW_ALRAMTHA_North                    1\n",
              "Name: CLOSE_GROUP, dtype: int64"
            ]
          },
          "metadata": {},
          "execution_count": 86
        }
      ]
    },
    {
      "cell_type": "code",
      "source": [
        "data['OPEN_GR'].value_counts()"
      ],
      "metadata": {
        "id": "3H2f4zYdupeC",
        "colab": {
          "base_uri": "https://localhost:8080/"
        },
        "outputId": "6d195f07-b0a7-4a3e-cfba-2e13a86a22fb"
      },
      "execution_count": 87,
      "outputs": [
        {
          "output_type": "execute_result",
          "data": {
            "text/plain": [
              "CBU - CC 1st Layer A                    5152\n",
              "System Administrator                    2189\n",
              "Priviliged OM                           1654\n",
              "CBU - CC 2nd Layers                      863\n",
              "CBU - CC 1st Layer                       255\n",
              "CBU / EBU - personal view                 88\n",
              "CBU - Sales - Sales rep                   88\n",
              "EBU-Contact Center CC                     36\n",
              "CBU / EBU - Report Extract                36\n",
              "EBU-Collection                            14\n",
              "EBU-Contact Center Complaint              11\n",
              "CBU - 1st layer- update opprt             10\n",
              "CBU - Sales support Back office team       8\n",
              "EBU - Contact Center CC Pro                4\n",
              "CBU - Sales - Supervisor                   2\n",
              "CBU - BO Billing team                      2\n",
              "Privileged CSR                             2\n",
              "CBU - Sales - Shop manager                 1\n",
              "Name: OPEN_GR, dtype: int64"
            ]
          },
          "metadata": {},
          "execution_count": 87
        }
      ]
    },
    {
      "cell_type": "code",
      "source": [
        "data"
      ],
      "metadata": {
        "id": "BVRQJklXOq8c",
        "colab": {
          "base_uri": "https://localhost:8080/",
          "height": 679
        },
        "outputId": "0fbfc28c-b02e-401d-ac0d-e33793ef8091"
      },
      "execution_count": 88,
      "outputs": [
        {
          "output_type": "execute_result",
          "data": {
            "text/plain": [
              "           OFFER_NAME CUSTOMER_TYPE    CUSTOMER_GROUP CURRENT_STATUS  \\\n",
              "0           FTTH Home           CBU         FTTH Home       Resolved   \n",
              "1             UNKNOWN           CBU         FTTH Home       Resolved   \n",
              "2      Bitstream Home           CBU  Wanadoo-ADSL-Res       Resolved   \n",
              "3           FTTH Home           CBU         FTTH Home       Resolved   \n",
              "4           FTTH Home           CBU         FTTH Home       Resolved   \n",
              "...               ...           ...               ...            ...   \n",
              "10410  OnLine Prepaid           CBU           Prepaid       Resolved   \n",
              "10411       FTTH Home           CBU         FTTH Home       Resolved   \n",
              "10412  FTTB Corporate           EBU    FTTB Corporate       Resolved   \n",
              "10413  Bitstream Home           CBU  Wanadoo-ADSL-Res       Resolved   \n",
              "10414  Bitstream Home           CBU  Wanadoo-ADSL-Res       Resolved   \n",
              "\n",
              "      ESCALATION_FLAG ESCALATED_GROUP             CLOSE_GROUP AGE_BRACKET  \\\n",
              "0                 Yes          F&I_BO                  F&I_BO         2.0   \n",
              "1                 Yes       Mobile_BO               Mobile_BO         1.0   \n",
              "2                  No   Not Escalated     CYC_COMMERCAIL_TEAM         1.0   \n",
              "3                  No   Not Escalated  CBU – OJO CC 1st Layer         1.0   \n",
              "4                  No   Not Escalated     CYC_COMMERCAIL_TEAM         1.0   \n",
              "...               ...             ...                     ...         ...   \n",
              "10410              No   Not Escalated               Mobile_BO         1.0   \n",
              "10411              No   Not Escalated             Disputes_BO         1.0   \n",
              "10412              No   Not Escalated     CYC_COMMERCAIL_TEAM         1.0   \n",
              "10413              No   Not Escalated     CYC_COMMERCAIL_TEAM         1.0   \n",
              "10414              No   Not Escalated        Sales_Devices_BO         1.0   \n",
              "\n",
              "           ACTUAL_COMPLAINT CALLBACK_MECHANISM                    OPEN_GR  \\\n",
              "0          Actual Complaint              Phone  CBU / EBU - personal view   \n",
              "1      Not Actual Complaint              Phone       System Administrator   \n",
              "2           User Not Filled                SMS      CBU - CC 1st Layer A    \n",
              "3           User Not Filled                SMS      CBU - CC 1st Layer A    \n",
              "4           User Not Filled                SMS      CBU - CC 1st Layer A    \n",
              "...                     ...                ...                        ...   \n",
              "10410       User Not Filled                SMS       CBU - CC 1st Layer     \n",
              "10411       User Not Filled                SMS      CBU - CC 1st Layer A    \n",
              "10412       User Not Filled                SMS      CBU - CC 1st Layer A    \n",
              "10413       User Not Filled                SMS      CBU - CC 1st Layer A    \n",
              "10414       User Not Filled                SMS      CBU - CC 1st Layer A    \n",
              "\n",
              "      COMPLAINT_TYPE   PRODUCT                 CASE  \n",
              "0          Technical  Internet  Technical complaint  \n",
              "1         Commercial    Mobile     Commercial claim  \n",
              "2          Technical  Internet  Technical complaint  \n",
              "3          Technical  Internet  Technical complaint  \n",
              "4          Technical  Internet  Technical complaint  \n",
              "...              ...       ...                  ...  \n",
              "10410     Commercial    Mobile     Commercial claim  \n",
              "10411      Technical  Internet  Technical complaint  \n",
              "10412      Technical  Internet  Technical complaint  \n",
              "10413      Technical  Internet  Technical complaint  \n",
              "10414      Technical  Internet  Technical complaint  \n",
              "\n",
              "[10415 rows x 14 columns]"
            ],
            "text/html": [
              "\n",
              "  <div id=\"df-da63e470-1505-493e-b7e0-34aeb9fc2807\">\n",
              "    <div class=\"colab-df-container\">\n",
              "      <div>\n",
              "<style scoped>\n",
              "    .dataframe tbody tr th:only-of-type {\n",
              "        vertical-align: middle;\n",
              "    }\n",
              "\n",
              "    .dataframe tbody tr th {\n",
              "        vertical-align: top;\n",
              "    }\n",
              "\n",
              "    .dataframe thead th {\n",
              "        text-align: right;\n",
              "    }\n",
              "</style>\n",
              "<table border=\"1\" class=\"dataframe\">\n",
              "  <thead>\n",
              "    <tr style=\"text-align: right;\">\n",
              "      <th></th>\n",
              "      <th>OFFER_NAME</th>\n",
              "      <th>CUSTOMER_TYPE</th>\n",
              "      <th>CUSTOMER_GROUP</th>\n",
              "      <th>CURRENT_STATUS</th>\n",
              "      <th>ESCALATION_FLAG</th>\n",
              "      <th>ESCALATED_GROUP</th>\n",
              "      <th>CLOSE_GROUP</th>\n",
              "      <th>AGE_BRACKET</th>\n",
              "      <th>ACTUAL_COMPLAINT</th>\n",
              "      <th>CALLBACK_MECHANISM</th>\n",
              "      <th>OPEN_GR</th>\n",
              "      <th>COMPLAINT_TYPE</th>\n",
              "      <th>PRODUCT</th>\n",
              "      <th>CASE</th>\n",
              "    </tr>\n",
              "  </thead>\n",
              "  <tbody>\n",
              "    <tr>\n",
              "      <th>0</th>\n",
              "      <td>FTTH Home</td>\n",
              "      <td>CBU</td>\n",
              "      <td>FTTH Home</td>\n",
              "      <td>Resolved</td>\n",
              "      <td>Yes</td>\n",
              "      <td>F&amp;I_BO</td>\n",
              "      <td>F&amp;I_BO</td>\n",
              "      <td>2.0</td>\n",
              "      <td>Actual Complaint</td>\n",
              "      <td>Phone</td>\n",
              "      <td>CBU / EBU - personal view</td>\n",
              "      <td>Technical</td>\n",
              "      <td>Internet</td>\n",
              "      <td>Technical complaint</td>\n",
              "    </tr>\n",
              "    <tr>\n",
              "      <th>1</th>\n",
              "      <td>UNKNOWN</td>\n",
              "      <td>CBU</td>\n",
              "      <td>FTTH Home</td>\n",
              "      <td>Resolved</td>\n",
              "      <td>Yes</td>\n",
              "      <td>Mobile_BO</td>\n",
              "      <td>Mobile_BO</td>\n",
              "      <td>1.0</td>\n",
              "      <td>Not Actual Complaint</td>\n",
              "      <td>Phone</td>\n",
              "      <td>System Administrator</td>\n",
              "      <td>Commercial</td>\n",
              "      <td>Mobile</td>\n",
              "      <td>Commercial claim</td>\n",
              "    </tr>\n",
              "    <tr>\n",
              "      <th>2</th>\n",
              "      <td>Bitstream Home</td>\n",
              "      <td>CBU</td>\n",
              "      <td>Wanadoo-ADSL-Res</td>\n",
              "      <td>Resolved</td>\n",
              "      <td>No</td>\n",
              "      <td>Not Escalated</td>\n",
              "      <td>CYC_COMMERCAIL_TEAM</td>\n",
              "      <td>1.0</td>\n",
              "      <td>User Not Filled</td>\n",
              "      <td>SMS</td>\n",
              "      <td>CBU - CC 1st Layer A</td>\n",
              "      <td>Technical</td>\n",
              "      <td>Internet</td>\n",
              "      <td>Technical complaint</td>\n",
              "    </tr>\n",
              "    <tr>\n",
              "      <th>3</th>\n",
              "      <td>FTTH Home</td>\n",
              "      <td>CBU</td>\n",
              "      <td>FTTH Home</td>\n",
              "      <td>Resolved</td>\n",
              "      <td>No</td>\n",
              "      <td>Not Escalated</td>\n",
              "      <td>CBU – OJO CC 1st Layer</td>\n",
              "      <td>1.0</td>\n",
              "      <td>User Not Filled</td>\n",
              "      <td>SMS</td>\n",
              "      <td>CBU - CC 1st Layer A</td>\n",
              "      <td>Technical</td>\n",
              "      <td>Internet</td>\n",
              "      <td>Technical complaint</td>\n",
              "    </tr>\n",
              "    <tr>\n",
              "      <th>4</th>\n",
              "      <td>FTTH Home</td>\n",
              "      <td>CBU</td>\n",
              "      <td>FTTH Home</td>\n",
              "      <td>Resolved</td>\n",
              "      <td>No</td>\n",
              "      <td>Not Escalated</td>\n",
              "      <td>CYC_COMMERCAIL_TEAM</td>\n",
              "      <td>1.0</td>\n",
              "      <td>User Not Filled</td>\n",
              "      <td>SMS</td>\n",
              "      <td>CBU - CC 1st Layer A</td>\n",
              "      <td>Technical</td>\n",
              "      <td>Internet</td>\n",
              "      <td>Technical complaint</td>\n",
              "    </tr>\n",
              "    <tr>\n",
              "      <th>...</th>\n",
              "      <td>...</td>\n",
              "      <td>...</td>\n",
              "      <td>...</td>\n",
              "      <td>...</td>\n",
              "      <td>...</td>\n",
              "      <td>...</td>\n",
              "      <td>...</td>\n",
              "      <td>...</td>\n",
              "      <td>...</td>\n",
              "      <td>...</td>\n",
              "      <td>...</td>\n",
              "      <td>...</td>\n",
              "      <td>...</td>\n",
              "      <td>...</td>\n",
              "    </tr>\n",
              "    <tr>\n",
              "      <th>10410</th>\n",
              "      <td>OnLine Prepaid</td>\n",
              "      <td>CBU</td>\n",
              "      <td>Prepaid</td>\n",
              "      <td>Resolved</td>\n",
              "      <td>No</td>\n",
              "      <td>Not Escalated</td>\n",
              "      <td>Mobile_BO</td>\n",
              "      <td>1.0</td>\n",
              "      <td>User Not Filled</td>\n",
              "      <td>SMS</td>\n",
              "      <td>CBU - CC 1st Layer</td>\n",
              "      <td>Commercial</td>\n",
              "      <td>Mobile</td>\n",
              "      <td>Commercial claim</td>\n",
              "    </tr>\n",
              "    <tr>\n",
              "      <th>10411</th>\n",
              "      <td>FTTH Home</td>\n",
              "      <td>CBU</td>\n",
              "      <td>FTTH Home</td>\n",
              "      <td>Resolved</td>\n",
              "      <td>No</td>\n",
              "      <td>Not Escalated</td>\n",
              "      <td>Disputes_BO</td>\n",
              "      <td>1.0</td>\n",
              "      <td>User Not Filled</td>\n",
              "      <td>SMS</td>\n",
              "      <td>CBU - CC 1st Layer A</td>\n",
              "      <td>Technical</td>\n",
              "      <td>Internet</td>\n",
              "      <td>Technical complaint</td>\n",
              "    </tr>\n",
              "    <tr>\n",
              "      <th>10412</th>\n",
              "      <td>FTTB Corporate</td>\n",
              "      <td>EBU</td>\n",
              "      <td>FTTB Corporate</td>\n",
              "      <td>Resolved</td>\n",
              "      <td>No</td>\n",
              "      <td>Not Escalated</td>\n",
              "      <td>CYC_COMMERCAIL_TEAM</td>\n",
              "      <td>1.0</td>\n",
              "      <td>User Not Filled</td>\n",
              "      <td>SMS</td>\n",
              "      <td>CBU - CC 1st Layer A</td>\n",
              "      <td>Technical</td>\n",
              "      <td>Internet</td>\n",
              "      <td>Technical complaint</td>\n",
              "    </tr>\n",
              "    <tr>\n",
              "      <th>10413</th>\n",
              "      <td>Bitstream Home</td>\n",
              "      <td>CBU</td>\n",
              "      <td>Wanadoo-ADSL-Res</td>\n",
              "      <td>Resolved</td>\n",
              "      <td>No</td>\n",
              "      <td>Not Escalated</td>\n",
              "      <td>CYC_COMMERCAIL_TEAM</td>\n",
              "      <td>1.0</td>\n",
              "      <td>User Not Filled</td>\n",
              "      <td>SMS</td>\n",
              "      <td>CBU - CC 1st Layer A</td>\n",
              "      <td>Technical</td>\n",
              "      <td>Internet</td>\n",
              "      <td>Technical complaint</td>\n",
              "    </tr>\n",
              "    <tr>\n",
              "      <th>10414</th>\n",
              "      <td>Bitstream Home</td>\n",
              "      <td>CBU</td>\n",
              "      <td>Wanadoo-ADSL-Res</td>\n",
              "      <td>Resolved</td>\n",
              "      <td>No</td>\n",
              "      <td>Not Escalated</td>\n",
              "      <td>Sales_Devices_BO</td>\n",
              "      <td>1.0</td>\n",
              "      <td>User Not Filled</td>\n",
              "      <td>SMS</td>\n",
              "      <td>CBU - CC 1st Layer A</td>\n",
              "      <td>Technical</td>\n",
              "      <td>Internet</td>\n",
              "      <td>Technical complaint</td>\n",
              "    </tr>\n",
              "  </tbody>\n",
              "</table>\n",
              "<p>10415 rows × 14 columns</p>\n",
              "</div>\n",
              "      <button class=\"colab-df-convert\" onclick=\"convertToInteractive('df-da63e470-1505-493e-b7e0-34aeb9fc2807')\"\n",
              "              title=\"Convert this dataframe to an interactive table.\"\n",
              "              style=\"display:none;\">\n",
              "        \n",
              "  <svg xmlns=\"http://www.w3.org/2000/svg\" height=\"24px\"viewBox=\"0 0 24 24\"\n",
              "       width=\"24px\">\n",
              "    <path d=\"M0 0h24v24H0V0z\" fill=\"none\"/>\n",
              "    <path d=\"M18.56 5.44l.94 2.06.94-2.06 2.06-.94-2.06-.94-.94-2.06-.94 2.06-2.06.94zm-11 1L8.5 8.5l.94-2.06 2.06-.94-2.06-.94L8.5 2.5l-.94 2.06-2.06.94zm10 10l.94 2.06.94-2.06 2.06-.94-2.06-.94-.94-2.06-.94 2.06-2.06.94z\"/><path d=\"M17.41 7.96l-1.37-1.37c-.4-.4-.92-.59-1.43-.59-.52 0-1.04.2-1.43.59L10.3 9.45l-7.72 7.72c-.78.78-.78 2.05 0 2.83L4 21.41c.39.39.9.59 1.41.59.51 0 1.02-.2 1.41-.59l7.78-7.78 2.81-2.81c.8-.78.8-2.07 0-2.86zM5.41 20L4 18.59l7.72-7.72 1.47 1.35L5.41 20z\"/>\n",
              "  </svg>\n",
              "      </button>\n",
              "      \n",
              "  <style>\n",
              "    .colab-df-container {\n",
              "      display:flex;\n",
              "      flex-wrap:wrap;\n",
              "      gap: 12px;\n",
              "    }\n",
              "\n",
              "    .colab-df-convert {\n",
              "      background-color: #E8F0FE;\n",
              "      border: none;\n",
              "      border-radius: 50%;\n",
              "      cursor: pointer;\n",
              "      display: none;\n",
              "      fill: #1967D2;\n",
              "      height: 32px;\n",
              "      padding: 0 0 0 0;\n",
              "      width: 32px;\n",
              "    }\n",
              "\n",
              "    .colab-df-convert:hover {\n",
              "      background-color: #E2EBFA;\n",
              "      box-shadow: 0px 1px 2px rgba(60, 64, 67, 0.3), 0px 1px 3px 1px rgba(60, 64, 67, 0.15);\n",
              "      fill: #174EA6;\n",
              "    }\n",
              "\n",
              "    [theme=dark] .colab-df-convert {\n",
              "      background-color: #3B4455;\n",
              "      fill: #D2E3FC;\n",
              "    }\n",
              "\n",
              "    [theme=dark] .colab-df-convert:hover {\n",
              "      background-color: #434B5C;\n",
              "      box-shadow: 0px 1px 3px 1px rgba(0, 0, 0, 0.15);\n",
              "      filter: drop-shadow(0px 1px 2px rgba(0, 0, 0, 0.3));\n",
              "      fill: #FFFFFF;\n",
              "    }\n",
              "  </style>\n",
              "\n",
              "      <script>\n",
              "        const buttonEl =\n",
              "          document.querySelector('#df-da63e470-1505-493e-b7e0-34aeb9fc2807 button.colab-df-convert');\n",
              "        buttonEl.style.display =\n",
              "          google.colab.kernel.accessAllowed ? 'block' : 'none';\n",
              "\n",
              "        async function convertToInteractive(key) {\n",
              "          const element = document.querySelector('#df-da63e470-1505-493e-b7e0-34aeb9fc2807');\n",
              "          const dataTable =\n",
              "            await google.colab.kernel.invokeFunction('convertToInteractive',\n",
              "                                                     [key], {});\n",
              "          if (!dataTable) return;\n",
              "\n",
              "          const docLinkHtml = 'Like what you see? Visit the ' +\n",
              "            '<a target=\"_blank\" href=https://colab.research.google.com/notebooks/data_table.ipynb>data table notebook</a>'\n",
              "            + ' to learn more about interactive tables.';\n",
              "          element.innerHTML = '';\n",
              "          dataTable['output_type'] = 'display_data';\n",
              "          await google.colab.output.renderOutput(dataTable, element);\n",
              "          const docLink = document.createElement('div');\n",
              "          docLink.innerHTML = docLinkHtml;\n",
              "          element.appendChild(docLink);\n",
              "        }\n",
              "      </script>\n",
              "    </div>\n",
              "  </div>\n",
              "  "
            ]
          },
          "metadata": {},
          "execution_count": 88
        }
      ]
    },
    {
      "cell_type": "code",
      "source": [
        "data = data.apply(lambda x: pd.factorize(x)[0])"
      ],
      "metadata": {
        "id": "61hmeGqoeU2R"
      },
      "execution_count": 89,
      "outputs": []
    },
    {
      "cell_type": "code",
      "source": [
        "X = data.drop([\"COMPLAINT_TYPE\"], axis=1)\n",
        "\n",
        "y = data[\"COMPLAINT_TYPE\"]"
      ],
      "metadata": {
        "id": "hcFYqegNguD0"
      },
      "execution_count": 90,
      "outputs": []
    },
    {
      "cell_type": "code",
      "source": [
        "from sklearn.model_selection import train_test_split\n",
        "X_train, X_test, y_train, y_test = train_test_split(X, y, test_size=0.2,random_state=0)\n"
      ],
      "metadata": {
        "id": "ButHEQuCjxXz"
      },
      "execution_count": 91,
      "outputs": []
    },
    {
      "cell_type": "code",
      "source": [
        "#@title KNN\n",
        "from sklearn.neighbors import KNeighborsClassifier\n",
        "\n",
        "classifer = KNeighborsClassifier(n_neighbors=3 )\n",
        "# importing accuracy_score\n",
        "from sklearn.metrics import accuracy_score,precision_score, recall_score, f1_score\n",
        "\n",
        "knn_accuracy_arr=np.zeros(10)\n",
        "knn_precision_arr=np.zeros(10)\n",
        "knn_recall_arr=np.zeros(10)\n",
        "knn_f1_score_arr=np.zeros(10)\n",
        "for i in range(10):\n",
        "  classifer.fit(X_train,y_train)\n",
        "  y_pred= classifer.predict(X_test)\n",
        "  knn_accuracy_arr[i] = accuracy_score(y_test,y_pred)\n",
        "  knn_precision_arr[i]=precision_score(y_test,y_pred)\n",
        "  knn_recall_arr[i]=recall_score(y_test,y_pred)\n",
        "  knn_f1_score_arr[i]=f1_score(y_test,y_pred)\n",
        "\n",
        "# printing accuracy\n",
        "print(\"Accuracy: \",knn_accuracy_arr.mean())\n",
        "# printing precision\n",
        "print(\"Precision: \",knn_precision_arr.mean())\n",
        "# printing recall\n",
        "print(\"Recall: \",knn_recall_arr.mean())\n",
        "# printing f1 score\n",
        "print(\"F1_score: \",knn_recall_arr.mean())"
      ],
      "metadata": {
        "cellView": "code",
        "id": "ARn5c_q1kiRR",
        "colab": {
          "base_uri": "https://localhost:8080/"
        },
        "outputId": "ca27f5c0-7833-4273-b1ab-9110554d04f2"
      },
      "execution_count": 92,
      "outputs": [
        {
          "output_type": "stream",
          "name": "stdout",
          "text": [
            "Accuracy:  0.9395103216514643\n",
            "Precision:  0.8909465020576132\n",
            "Recall:  0.8557312252964426\n",
            "F1_score:  0.8557312252964426\n"
          ]
        }
      ]
    },
    {
      "cell_type": "markdown",
      "source": [
        "# Descision Tree"
      ],
      "metadata": {
        "id": "BxlvdwsMbkgF"
      }
    },
    {
      "cell_type": "code",
      "source": [
        "from sklearn.tree import DecisionTreeClassifier\n",
        "\n",
        "# Create Decision Tree classifer object\n",
        "classifer2 = DecisionTreeClassifier()\n",
        "\n",
        "DT_accuracy_arr=np.zeros(10)\n",
        "DT_precision_arr=np.zeros(10)\n",
        "DT_recall_arr=np.zeros(10)\n",
        "DT_f1_score_arr=np.zeros(10)\n",
        "\n",
        "for i in range(10):\n",
        "# Train Decision Tree Classifer\n",
        "  classifer2 = classifer2.fit(X_train,y_train)\n",
        "#Predict the response for test dataset\n",
        "  y_pred = classifer2.predict(X_test)\n",
        "\n",
        "  DT_accuracy_arr[i] = accuracy_score(y_test,y_pred)\n",
        "  DT_precision_arr[i]=precision_score(y_test,y_pred)\n",
        "  DT_recall_arr[i]=recall_score(y_test,y_pred)\n",
        "  DT_f1_score_arr[i]=f1_score(y_test,y_pred)\n",
        "# printing accuracy\n",
        "print(\"Accuracy: \",DT_accuracy_arr.mean())\n",
        "# printing precision\n",
        "print(\"Precision: \",DT_precision_arr.mean())\n",
        "# printing recall\n",
        "print(\"Recall: \",DT_recall_arr.mean())\n",
        "# printing f1 score\n",
        "print(\"F1_score: \",DT_recall_arr.mean())"
      ],
      "metadata": {
        "id": "CO5Y9GVDmbur",
        "colab": {
          "base_uri": "https://localhost:8080/"
        },
        "outputId": "a5eff22d-c770-470c-c4d4-069858c7070b"
      },
      "execution_count": 93,
      "outputs": [
        {
          "output_type": "stream",
          "name": "stdout",
          "text": [
            "Accuracy:  0.9895823331733078\n",
            "Precision:  0.9706516331020725\n",
            "Recall:  0.9869565217391305\n",
            "F1_score:  0.9869565217391305\n"
          ]
        }
      ]
    },
    {
      "cell_type": "code",
      "source": [
        "from sklearn.naive_bayes import GaussianNB\n",
        "# Create Decision Tree classifer object\n",
        "classifer3 = GaussianNB()\n",
        "\n",
        "GB_accuracy_arr=np.zeros(10)\n",
        "GB_precision_arr=np.zeros(10)\n",
        "GB_recall_arr=np.zeros(10)\n",
        "GB_f1_score_arr=np.zeros(10)\n",
        "\n",
        "for i in range(10):\n",
        "# Train Decision Tree Classifer\n",
        "  classifer3 = classifer3.fit(X_train,y_train)\n",
        "#Predict the response for test dataset\n",
        "  y_pred = classifer3.predict(X_test)\n",
        "\n",
        "  GB_accuracy_arr[i] = accuracy_score(y_test,y_pred)\n",
        "  GB_precision_arr[i]=precision_score(y_test,y_pred)\n",
        "  GB_recall_arr[i]=recall_score(y_test,y_pred)\n",
        "  GB_f1_score_arr[i]=f1_score(y_test,y_pred)\n",
        "# printing accuracy\n",
        "print(\"Accuracy: \",GB_accuracy_arr.mean())\n",
        "# printing precision\n",
        "print(\"Precision: \",GB_precision_arr.mean())\n",
        "# printing recall\n",
        "print(\"Recall: \",GB_recall_arr.mean())\n",
        "# printing f1 score\n",
        "print(\"F1_score: \",GB_f1_score_arr.mean())"
      ],
      "metadata": {
        "id": "Y_fxHm2ezt8C",
        "colab": {
          "base_uri": "https://localhost:8080/"
        },
        "outputId": "3d6a4304-96e6-4d4f-8a74-3290696e3190"
      },
      "execution_count": 94,
      "outputs": [
        {
          "output_type": "stream",
          "name": "stdout",
          "text": [
            "Accuracy:  0.8372539606337014\n",
            "Precision:  0.6765327695560253\n",
            "Recall:  0.6324110671936759\n",
            "F1_score:  0.6537282941777323\n"
          ]
        }
      ]
    },
    {
      "cell_type": "code",
      "source": [],
      "metadata": {
        "id": "xF889fT3lT30"
      },
      "execution_count": 94,
      "outputs": []
    },
    {
      "cell_type": "code",
      "source": [
        "machine_learning_model_name = ['kNN','DT','GB']\n",
        "machine_learning_model_Accuracy = [knn_accuracy_arr.mean()*100,DT_accuracy_arr.mean()*100,GB_accuracy_arr.mean()*100]\n",
        "machine_learning_model_precision = [knn_precision_arr.mean()*100,DT_precision_arr.mean()*100,GB_precision_arr.mean()*100]\n",
        "machine_learning_model_Recall = [knn_recall_arr.mean()*100,DT_recall_arr.mean()*100,GB_recall_arr.mean()*100]\n",
        "machine_learning_model_F1_score = [knn_recall_arr.mean()*100,DT_recall_arr.mean()*100,GB_f1_score_arr.mean()*100]\n",
        "X_axis = np.arange(len(machine_learning_model_name ))\n",
        "  \n",
        "\n",
        "# creating the bar plot\n",
        "plt.bar(X_axis+0.1, machine_learning_model_Accuracy, color ='orange',width = 0.20,edgecolor = 'black',label = 'Accuracy')\n",
        "plt.bar(X_axis + 0.3, machine_learning_model_precision, color ='green',width = 0.20,edgecolor = 'black',label = 'precision')\n",
        "plt.bar(X_axis + 0.5, machine_learning_model_Recall, color ='blue',width = 0.20,edgecolor = 'black',label = 'recall')\n",
        "plt.bar(X_axis + 0.7, machine_learning_model_F1_score, color ='purple',width = 0.20,edgecolor = 'black',label = 'F1 score')\n",
        "\n",
        "plt.xticks(X_axis+0.25, machine_learning_model_name )\n",
        "plt.legend(bbox_to_anchor=(1, 1))\n",
        "\n",
        "\n",
        "plt.xlabel(\"Machine learning model\")\n",
        "plt.ylabel(\"Percentage\")\n",
        "plt.title(\"Summary of Results\")\n",
        "plt.show()"
      ],
      "metadata": {
        "id": "XO1bHmkSUMbS",
        "colab": {
          "base_uri": "https://localhost:8080/",
          "height": 295
        },
        "outputId": "9be0e4c5-ac77-44ba-eb94-4efbe0555ed0"
      },
      "execution_count": 95,
      "outputs": [
        {
          "output_type": "display_data",
          "data": {
            "text/plain": [
              "<Figure size 432x288 with 1 Axes>"
            ],
            "image/png": "[encoded data removed]"
          },
          "metadata": {
            "needs_background": "light"
          }
        }
      ]
    },
    {
      "cell_type": "code",
      "source": [
        "KNN_arr=[knn_accuracy_arr,knn_precision_arr,knn_recall_arr,knn_f1_score_arr]\n",
        "knn_dict = {'Accuracy': knn_accuracy_arr, 'Precision': knn_precision_arr, 'Recall': knn_recall_arr, 'F1_score': knn_f1_score_arr}\n",
        "plt.show()\n",
        "fig, ax = plt.subplots()\n",
        "#ax.boxplot(knn_dict.values())\n",
        "ax.set_xticklabels(knn_dict.keys())\n",
        "plt.boxplot(KNN_arr)\n",
        "plt.show()"
      ],
      "metadata": {
        "id": "v6zynlEQp7xv",
        "colab": {
          "base_uri": "https://localhost:8080/",
          "height": 266
        },
        "outputId": "260747d7-3697-439a-8efa-0484bdfb85a2"
      },
      "execution_count": 96,
      "outputs": [
        {
          "output_type": "display_data",
          "data": {
            "text/plain": [
              "<Figure size 432x288 with 1 Axes>"
            ],
            "image/png": "[encoded data removed]"
          },
          "metadata": {
            "needs_background": "light"
          }
        }
      ]
    },
    {
      "cell_type": "code",
      "source": [
        "DT_arr=[DT_accuracy_arr,DT_precision_arr,DT_recall_arr,DT_f1_score_arr]\n",
        "DT_dict = {'Accuracy': DT_accuracy_arr, 'Precision': DT_precision_arr, 'Recall': DT_recall_arr, 'F1_score': DT_f1_score_arr}\n",
        "fig, ax = plt.subplots()\n",
        "#ax.boxplot(DT_dict.values())\n",
        "ax.set_xticklabels(DT_dict.keys())\n",
        "\n",
        "plt.boxplot(DT_arr)\n",
        "plt.show()"
      ],
      "metadata": {
        "id": "DchJMfCkvdR-",
        "colab": {
          "base_uri": "https://localhost:8080/",
          "height": 266
        },
        "outputId": "f56dc4cd-ce54-439e-e956-33f0cb4d98ae"
      },
      "execution_count": 97,
      "outputs": [
        {
          "output_type": "display_data",
          "data": {
            "text/plain": [
              "<Figure size 432x288 with 1 Axes>"
            ],
            "image/png": "[encoded data removed]"
          },
          "metadata": {
            "needs_background": "light"
          }
        }
      ]
    },
    {
      "cell_type": "code",
      "source": [
        "GB_arr=[GB_accuracy_arr,GB_precision_arr,GB_recall_arr,GB_f1_score_arr]\n",
        "GB_dict = {'Accuracy': GB_accuracy_arr, 'Precision': GB_precision_arr, 'Recall': GB_recall_arr, 'F1_score': GB_f1_score_arr}\n",
        "fig, ax = plt.subplots()\n",
        "#ax.boxplot(DT_dict.values())\n",
        "ax.set_xticklabels(GB_dict.keys())\n",
        "\n",
        "plt.boxplot(GB_arr)\n",
        "plt.show()"
      ],
      "metadata": {
        "id": "GkqQ2kpfsJq1",
        "colab": {
          "base_uri": "https://localhost:8080/",
          "height": 266
        },
        "outputId": "44ca3be3-0190-42db-859a-4343aefb9976"
      },
      "execution_count": 98,
      "outputs": [
        {
          "output_type": "display_data",
          "data": {
            "text/plain": [
              "<Figure size 432x288 with 1 Axes>"
            ],
            "image/png": "[encoded data removed]"
          },
          "metadata": {
            "needs_background": "light"
          }
        }
      ]
    },
    {
      "cell_type": "code",
      "source": [
        "categories=['Accuracy','Precision','Recall','F1 measure']\n",
        "knn=[knn_accuracy_arr.mean(),knn_precision_arr.mean(),knn_recall_arr.mean(),knn_f1_score_arr.mean()]\n",
        "DT=[DT_accuracy_arr.mean(),DT_precision_arr.mean(),DT_recall_arr.mean(),DT_f1_score_arr.mean()]\n",
        "GB=[GB_accuracy_arr.mean(),GB_precision_arr.mean(),GB_recall_arr.mean(),GB_f1_score_arr.mean()]\n",
        "angles = np.linspace(start=0, stop=2 * np.pi, num=len(knn), endpoint=False)\n",
        "\n",
        "#Append the first value for all arrays/lists used for visualization to maintain length consistency\n",
        "knn.append(knn[0])\n",
        "DT.append(DT[0])\n",
        "GB.append(GB[0])\n",
        "categories.append(categories[0])\n",
        "angles=np.concatenate((angles,[angles[0]]))\n",
        "\n",
        "#A basic radar chart can be plotted by setting polar=True in subplot function. and providing angles and values as argument to plot function\n",
        "plt.figure(figsize=(6, 6))\n",
        "plt.subplot(polar=True)\n",
        "\n",
        "plt.plot(angles, knn, label='KNN')\n",
        "# plt.fill(angles, knn, alpha=0.25, color='g')\n",
        "plt.plot(angles, DT, label='DT')\n",
        "# plt.fill(angles, DT, alpha=0.25, color='orange')\n",
        "plt.plot(angles, GB, label='GB')\n",
        "plt.thetagrids(np.degrees(angles), labels=categories)\n",
        "\n",
        "plt.legend()\n",
        "plt.show()"
      ],
      "metadata": {
        "id": "3Bfnbyh3wlw_",
        "colab": {
          "base_uri": "https://localhost:8080/",
          "height": 395
        },
        "outputId": "5c9e8140-14e1-4767-da19-3ab6836ddc41"
      },
      "execution_count": 99,
      "outputs": [
        {
          "output_type": "display_data",
          "data": {
            "text/plain": [
              "<Figure size 432x432 with 1 Axes>"
            ],
            "image/png": "[encoded data removed]"
          },
          "metadata": {
            "needs_background": "light"
          }
        }
      ]
    }
  ]
}