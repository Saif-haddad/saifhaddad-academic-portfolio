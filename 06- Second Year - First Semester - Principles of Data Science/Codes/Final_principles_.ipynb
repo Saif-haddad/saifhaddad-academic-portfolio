{
  "nbformat": 4,
  "nbformat_minor": 0,
  "metadata": {
    "colab": {
      "provenance": []
    },
    "kernelspec": {
      "name": "python3",
      "display_name": "Python 3"
    },
    "language_info": {
      "name": "python"
    }
  },
  "cells": [
    {
      "cell_type": "code",
      "execution_count": 208,
      "metadata": {
        "id": "4Fjwz_ia5Bzz"
      },
      "outputs": [],
      "source": [
        "import numpy as np\n",
        "import pandas as pd"
      ]
    },
    {
      "cell_type": "code",
      "source": [
        "data=pd.read_csv(\"dataset.csv\")\n",
        "data"
      ],
      "metadata": {
        "colab": {
          "base_uri": "https://localhost:8080/",
          "height": 540
        },
        "id": "muppsybp7dcD",
        "outputId": "1f98d35b-f605-4071-f786-142471fa532d"
      },
      "execution_count": 209,
      "outputs": [
        {
          "output_type": "execute_result",
          "data": {
            "text/plain": [
              "       I_Id     I_W  I_Fat_C     I_Vis    I_MRP_JD             I_category  \\\n",
              "0     FDA15   9.300  Low Fat  0.016172  225.644532                  Dairy   \n",
              "1     DRC01   5.920  Regular  0.019403   82.551132            Soft Drinks   \n",
              "2     FDN15  17.500  Low Fat  0.016885  148.828780                   Meat   \n",
              "3     FDX07  19.200  Regular  0.000000  177.567450  Fruits and Vegetables   \n",
              "4     NCD19   8.930  Low Fat  0.000000   86.521594              Household   \n",
              "...     ...     ...      ...       ...         ...                    ...   \n",
              "8518  FDF22   6.865  Low Fat  0.056908  200.590478            Snack Foods   \n",
              "8519  FDS36   8.380  Regular  0.047107  125.071470           Baking Goods   \n",
              "8520  NCJ29  10.600  Low Fat  0.035311  108.716904     Health and Hygiene   \n",
              "8521  FDN46   7.210  Regular  0.145346  121.504572            Snack Foods   \n",
              "8522  DRG01  14.800  Low Fat  0.045003  101.861570            Soft Drinks   \n",
              "\n",
              "      I_MRP_US    O_Id  O_Establ_Y  O_Size I_Recalled O_Loc_T            O_T  \\\n",
              "0     317.8092  OUT049        2009  Medium         NO  Tier 1      Carrefour   \n",
              "1     116.2692  OUT018        2019  Medium        YES  Tier 3         C-Town   \n",
              "2     209.6180  OUT049        2009  Medium         NO  Tier 1      Carrefour   \n",
              "3     250.0950  OUT010        2008     NaN         NO  Tier 3  Family Basket   \n",
              "4     121.8614  OUT013        1997    High         NO  Tier 3      Carrefour   \n",
              "...        ...     ...         ...     ...        ...     ...            ...   \n",
              "8518  282.5218  OUT013        1997    High         NO  Tier 3      Carrefour   \n",
              "8519  176.1570  OUT045        2012     NaN         NO  Tier 2      Carrefour   \n",
              "8520  153.1224  OUT035        2014   Small         NO  Tier 2      Carrefour   \n",
              "8521  171.1332  OUT018        2019  Medium         NO  Tier 3         C-Town   \n",
              "8522  143.4670  OUT046        2007   Small         NO  Tier 1      Carrefour   \n",
              "\n",
              "      I_O_Sales  \n",
              "0     3915.1380  \n",
              "1      623.4228  \n",
              "2     2277.2700  \n",
              "3      912.3800  \n",
              "4     1174.7052  \n",
              "...         ...  \n",
              "8518  2958.3834  \n",
              "8519   729.2850  \n",
              "8520  1373.1136  \n",
              "8521  2025.5976  \n",
              "8522   945.6700  \n",
              "\n",
              "[8523 rows x 14 columns]"
            ],
            "text/html": [
              "\n",
              "  <div id=\"df-1be57fbb-dc71-44cb-af95-05bb43f43ab2\">\n",
              "    <div class=\"colab-df-container\">\n",
              "      <div>\n",
              "<style scoped>\n",
              "    .dataframe tbody tr th:only-of-type {\n",
              "        vertical-align: middle;\n",
              "    }\n",
              "\n",
              "    .dataframe tbody tr th {\n",
              "        vertical-align: top;\n",
              "    }\n",
              "\n",
              "    .dataframe thead th {\n",
              "        text-align: right;\n",
              "    }\n",
              "</style>\n",
              "<table border=\"1\" class=\"dataframe\">\n",
              "  <thead>\n",
              "    <tr style=\"text-align: right;\">\n",
              "      <th></th>\n",
              "      <th>I_Id</th>\n",
              "      <th>I_W</th>\n",
              "      <th>I_Fat_C</th>\n",
              "      <th>I_Vis</th>\n",
              "      <th>I_MRP_JD</th>\n",
              "      <th>I_category</th>\n",
              "      <th>I_MRP_US</th>\n",
              "      <th>O_Id</th>\n",
              "      <th>O_Establ_Y</th>\n",
              "      <th>O_Size</th>\n",
              "      <th>I_Recalled</th>\n",
              "      <th>O_Loc_T</th>\n",
              "      <th>O_T</th>\n",
              "      <th>I_O_Sales</th>\n",
              "    </tr>\n",
              "  </thead>\n",
              "  <tbody>\n",
              "    <tr>\n",
              "      <th>0</th>\n",
              "      <td>FDA15</td>\n",
              "      <td>9.300</td>\n",
              "      <td>Low Fat</td>\n",
              "      <td>0.016172</td>\n",
              "      <td>225.644532</td>\n",
              "      <td>Dairy</td>\n",
              "      <td>317.8092</td>\n",
              "      <td>OUT049</td>\n",
              "      <td>2009</td>\n",
              "      <td>Medium</td>\n",
              "      <td>NO</td>\n",
              "      <td>Tier 1</td>\n",
              "      <td>Carrefour</td>\n",
              "      <td>3915.1380</td>\n",
              "    </tr>\n",
              "    <tr>\n",
              "      <th>1</th>\n",
              "      <td>DRC01</td>\n",
              "      <td>5.920</td>\n",
              "      <td>Regular</td>\n",
              "      <td>0.019403</td>\n",
              "      <td>82.551132</td>\n",
              "      <td>Soft Drinks</td>\n",
              "      <td>116.2692</td>\n",
              "      <td>OUT018</td>\n",
              "      <td>2019</td>\n",
              "      <td>Medium</td>\n",
              "      <td>YES</td>\n",
              "      <td>Tier 3</td>\n",
              "      <td>C-Town</td>\n",
              "      <td>623.4228</td>\n",
              "    </tr>\n",
              "    <tr>\n",
              "      <th>2</th>\n",
              "      <td>FDN15</td>\n",
              "      <td>17.500</td>\n",
              "      <td>Low Fat</td>\n",
              "      <td>0.016885</td>\n",
              "      <td>148.828780</td>\n",
              "      <td>Meat</td>\n",
              "      <td>209.6180</td>\n",
              "      <td>OUT049</td>\n",
              "      <td>2009</td>\n",
              "      <td>Medium</td>\n",
              "      <td>NO</td>\n",
              "      <td>Tier 1</td>\n",
              "      <td>Carrefour</td>\n",
              "      <td>2277.2700</td>\n",
              "    </tr>\n",
              "    <tr>\n",
              "      <th>3</th>\n",
              "      <td>FDX07</td>\n",
              "      <td>19.200</td>\n",
              "      <td>Regular</td>\n",
              "      <td>0.000000</td>\n",
              "      <td>177.567450</td>\n",
              "      <td>Fruits and Vegetables</td>\n",
              "      <td>250.0950</td>\n",
              "      <td>OUT010</td>\n",
              "      <td>2008</td>\n",
              "      <td>NaN</td>\n",
              "      <td>NO</td>\n",
              "      <td>Tier 3</td>\n",
              "      <td>Family Basket</td>\n",
              "      <td>912.3800</td>\n",
              "    </tr>\n",
              "    <tr>\n",
              "      <th>4</th>\n",
              "      <td>NCD19</td>\n",
              "      <td>8.930</td>\n",
              "      <td>Low Fat</td>\n",
              "      <td>0.000000</td>\n",
              "      <td>86.521594</td>\n",
              "      <td>Household</td>\n",
              "      <td>121.8614</td>\n",
              "      <td>OUT013</td>\n",
              "      <td>1997</td>\n",
              "      <td>High</td>\n",
              "      <td>NO</td>\n",
              "      <td>Tier 3</td>\n",
              "      <td>Carrefour</td>\n",
              "      <td>1174.7052</td>\n",
              "    </tr>\n",
              "    <tr>\n",
              "      <th>...</th>\n",
              "      <td>...</td>\n",
              "      <td>...</td>\n",
              "      <td>...</td>\n",
              "      <td>...</td>\n",
              "      <td>...</td>\n",
              "      <td>...</td>\n",
              "      <td>...</td>\n",
              "      <td>...</td>\n",
              "      <td>...</td>\n",
              "      <td>...</td>\n",
              "      <td>...</td>\n",
              "      <td>...</td>\n",
              "      <td>...</td>\n",
              "      <td>...</td>\n",
              "    </tr>\n",
              "    <tr>\n",
              "      <th>8518</th>\n",
              "      <td>FDF22</td>\n",
              "      <td>6.865</td>\n",
              "      <td>Low Fat</td>\n",
              "      <td>0.056908</td>\n",
              "      <td>200.590478</td>\n",
              "      <td>Snack Foods</td>\n",
              "      <td>282.5218</td>\n",
              "      <td>OUT013</td>\n",
              "      <td>1997</td>\n",
              "      <td>High</td>\n",
              "      <td>NO</td>\n",
              "      <td>Tier 3</td>\n",
              "      <td>Carrefour</td>\n",
              "      <td>2958.3834</td>\n",
              "    </tr>\n",
              "    <tr>\n",
              "      <th>8519</th>\n",
              "      <td>FDS36</td>\n",
              "      <td>8.380</td>\n",
              "      <td>Regular</td>\n",
              "      <td>0.047107</td>\n",
              "      <td>125.071470</td>\n",
              "      <td>Baking Goods</td>\n",
              "      <td>176.1570</td>\n",
              "      <td>OUT045</td>\n",
              "      <td>2012</td>\n",
              "      <td>NaN</td>\n",
              "      <td>NO</td>\n",
              "      <td>Tier 2</td>\n",
              "      <td>Carrefour</td>\n",
              "      <td>729.2850</td>\n",
              "    </tr>\n",
              "    <tr>\n",
              "      <th>8520</th>\n",
              "      <td>NCJ29</td>\n",
              "      <td>10.600</td>\n",
              "      <td>Low Fat</td>\n",
              "      <td>0.035311</td>\n",
              "      <td>108.716904</td>\n",
              "      <td>Health and Hygiene</td>\n",
              "      <td>153.1224</td>\n",
              "      <td>OUT035</td>\n",
              "      <td>2014</td>\n",
              "      <td>Small</td>\n",
              "      <td>NO</td>\n",
              "      <td>Tier 2</td>\n",
              "      <td>Carrefour</td>\n",
              "      <td>1373.1136</td>\n",
              "    </tr>\n",
              "    <tr>\n",
              "      <th>8521</th>\n",
              "      <td>FDN46</td>\n",
              "      <td>7.210</td>\n",
              "      <td>Regular</td>\n",
              "      <td>0.145346</td>\n",
              "      <td>121.504572</td>\n",
              "      <td>Snack Foods</td>\n",
              "      <td>171.1332</td>\n",
              "      <td>OUT018</td>\n",
              "      <td>2019</td>\n",
              "      <td>Medium</td>\n",
              "      <td>NO</td>\n",
              "      <td>Tier 3</td>\n",
              "      <td>C-Town</td>\n",
              "      <td>2025.5976</td>\n",
              "    </tr>\n",
              "    <tr>\n",
              "      <th>8522</th>\n",
              "      <td>DRG01</td>\n",
              "      <td>14.800</td>\n",
              "      <td>Low Fat</td>\n",
              "      <td>0.045003</td>\n",
              "      <td>101.861570</td>\n",
              "      <td>Soft Drinks</td>\n",
              "      <td>143.4670</td>\n",
              "      <td>OUT046</td>\n",
              "      <td>2007</td>\n",
              "      <td>Small</td>\n",
              "      <td>NO</td>\n",
              "      <td>Tier 1</td>\n",
              "      <td>Carrefour</td>\n",
              "      <td>945.6700</td>\n",
              "    </tr>\n",
              "  </tbody>\n",
              "</table>\n",
              "<p>8523 rows × 14 columns</p>\n",
              "</div>\n",
              "      <button class=\"colab-df-convert\" onclick=\"convertToInteractive('df-1be57fbb-dc71-44cb-af95-05bb43f43ab2')\"\n",
              "              title=\"Convert this dataframe to an interactive table.\"\n",
              "              style=\"display:none;\">\n",
              "        \n",
              "  <svg xmlns=\"http://www.w3.org/2000/svg\" height=\"24px\"viewBox=\"0 0 24 24\"\n",
              "       width=\"24px\">\n",
              "    <path d=\"M0 0h24v24H0V0z\" fill=\"none\"/>\n",
              "    <path d=\"M18.56 5.44l.94 2.06.94-2.06 2.06-.94-2.06-.94-.94-2.06-.94 2.06-2.06.94zm-11 1L8.5 8.5l.94-2.06 2.06-.94-2.06-.94L8.5 2.5l-.94 2.06-2.06.94zm10 10l.94 2.06.94-2.06 2.06-.94-2.06-.94-.94-2.06-.94 2.06-2.06.94z\"/><path d=\"M17.41 7.96l-1.37-1.37c-.4-.4-.92-.59-1.43-.59-.52 0-1.04.2-1.43.59L10.3 9.45l-7.72 7.72c-.78.78-.78 2.05 0 2.83L4 21.41c.39.39.9.59 1.41.59.51 0 1.02-.2 1.41-.59l7.78-7.78 2.81-2.81c.8-.78.8-2.07 0-2.86zM5.41 20L4 18.59l7.72-7.72 1.47 1.35L5.41 20z\"/>\n",
              "  </svg>\n",
              "      </button>\n",
              "      \n",
              "  <style>\n",
              "    .colab-df-container {\n",
              "      display:flex;\n",
              "      flex-wrap:wrap;\n",
              "      gap: 12px;\n",
              "    }\n",
              "\n",
              "    .colab-df-convert {\n",
              "      background-color: #E8F0FE;\n",
              "      border: none;\n",
              "      border-radius: 50%;\n",
              "      cursor: pointer;\n",
              "      display: none;\n",
              "      fill: #1967D2;\n",
              "      height: 32px;\n",
              "      padding: 0 0 0 0;\n",
              "      width: 32px;\n",
              "    }\n",
              "\n",
              "    .colab-df-convert:hover {\n",
              "      background-color: #E2EBFA;\n",
              "      box-shadow: 0px 1px 2px rgba(60, 64, 67, 0.3), 0px 1px 3px 1px rgba(60, 64, 67, 0.15);\n",
              "      fill: #174EA6;\n",
              "    }\n",
              "\n",
              "    [theme=dark] .colab-df-convert {\n",
              "      background-color: #3B4455;\n",
              "      fill: #D2E3FC;\n",
              "    }\n",
              "\n",
              "    [theme=dark] .colab-df-convert:hover {\n",
              "      background-color: #434B5C;\n",
              "      box-shadow: 0px 1px 3px 1px rgba(0, 0, 0, 0.15);\n",
              "      filter: drop-shadow(0px 1px 2px rgba(0, 0, 0, 0.3));\n",
              "      fill: #FFFFFF;\n",
              "    }\n",
              "  </style>\n",
              "\n",
              "      <script>\n",
              "        const buttonEl =\n",
              "          document.querySelector('#df-1be57fbb-dc71-44cb-af95-05bb43f43ab2 button.colab-df-convert');\n",
              "        buttonEl.style.display =\n",
              "          google.colab.kernel.accessAllowed ? 'block' : 'none';\n",
              "\n",
              "        async function convertToInteractive(key) {\n",
              "          const element = document.querySelector('#df-1be57fbb-dc71-44cb-af95-05bb43f43ab2');\n",
              "          const dataTable =\n",
              "            await google.colab.kernel.invokeFunction('convertToInteractive',\n",
              "                                                     [key], {});\n",
              "          if (!dataTable) return;\n",
              "\n",
              "          const docLinkHtml = 'Like what you see? Visit the ' +\n",
              "            '<a target=\"_blank\" href=https://colab.research.google.com/notebooks/data_table.ipynb>data table notebook</a>'\n",
              "            + ' to learn more about interactive tables.';\n",
              "          element.innerHTML = '';\n",
              "          dataTable['output_type'] = 'display_data';\n",
              "          await google.colab.output.renderOutput(dataTable, element);\n",
              "          const docLink = document.createElement('div');\n",
              "          docLink.innerHTML = docLinkHtml;\n",
              "          element.appendChild(docLink);\n",
              "        }\n",
              "      </script>\n",
              "    </div>\n",
              "  </div>\n",
              "  "
            ]
          },
          "metadata": {},
          "execution_count": 209
        }
      ]
    },
    {
      "cell_type": "code",
      "source": [
        "data.isnull().sum()"
      ],
      "metadata": {
        "colab": {
          "base_uri": "https://localhost:8080/"
        },
        "id": "ba6kO9G_9Gkh",
        "outputId": "b6087530-baea-454a-dcd2-7acd78d5f44b"
      },
      "execution_count": 210,
      "outputs": [
        {
          "output_type": "execute_result",
          "data": {
            "text/plain": [
              "I_Id             0\n",
              "I_W           1463\n",
              "I_Fat_C          0\n",
              "I_Vis            0\n",
              "I_MRP_JD         0\n",
              "I_category       0\n",
              "I_MRP_US         0\n",
              "O_Id             0\n",
              "O_Establ_Y       0\n",
              "O_Size        2410\n",
              "I_Recalled       0\n",
              "O_Loc_T          0\n",
              "O_T              0\n",
              "I_O_Sales        0\n",
              "dtype: int64"
            ]
          },
          "metadata": {},
          "execution_count": 210
        }
      ]
    },
    {
      "cell_type": "code",
      "source": [
        "print(data[data['I_W'].isnull()])"
      ],
      "metadata": {
        "colab": {
          "base_uri": "https://localhost:8080/"
        },
        "id": "jVvcLJEzpBYj",
        "outputId": "f09f28a2-4ba7-42df-e276-c5125fbbc8e0"
      },
      "execution_count": 211,
      "outputs": [
        {
          "output_type": "stream",
          "name": "stdout",
          "text": [
            "       I_Id  I_W  I_Fat_C     I_Vis    I_MRP_JD             I_category  \\\n",
            "7     FDP10  NaN  Low Fat  0.127595  124.791162            Snack Foods   \n",
            "18    DRI11  NaN  Low Fat  0.034363  128.711214            Hard Drinks   \n",
            "21    FDW12  NaN  Regular  0.035525  150.906524           Baking Goods   \n",
            "23    FDC37  NaN  Low Fat  0.057682  124.742598           Baking Goods   \n",
            "29    FDC14  NaN  Regular  0.072347   79.268234                 Canned   \n",
            "...     ...  ...      ...       ...         ...                    ...   \n",
            "8485  DRK37  NaN  Low Fat  0.043917  182.507630            Soft Drinks   \n",
            "8487  DRG13  NaN  Low Fat  0.037131  165.254346            Soft Drinks   \n",
            "8488  NCN14  NaN  Low Fat  0.091598  179.389168                 Others   \n",
            "8490  FDU44  NaN  Regular  0.102421  163.552192  Fruits and Vegetables   \n",
            "8504  NCN18  NaN  Low Fat  0.124236  127.625624              Household   \n",
            "\n",
            "      I_MRP_US    O_Id  O_Establ_Y  O_Size I_Recalled O_Loc_T            O_T  \\\n",
            "7     175.7622  OUT027        1995  Medium         NO  Tier 3          Cozmo   \n",
            "18    181.2834  OUT027        1995  Medium        YES  Tier 3          Cozmo   \n",
            "21    212.5444  OUT027        1995  Medium         NO  Tier 3          Cozmo   \n",
            "23    175.6938  OUT019        1995   Small         NO  Tier 1  Family Basket   \n",
            "29    111.6454  OUT019        1995   Small         NO  Tier 1  Family Basket   \n",
            "...        ...     ...         ...     ...        ...     ...            ...   \n",
            "8485  257.0530  OUT027        1995  Medium         NO  Tier 3          Cozmo   \n",
            "8487  232.7526  OUT027        1995  Medium         NO  Tier 3          Cozmo   \n",
            "8488  252.6608  OUT027        1995  Medium         NO  Tier 3          Cozmo   \n",
            "8490  230.3552  OUT019        1995   Small         NO  Tier 1  Family Basket   \n",
            "8504  179.7544  OUT027        1995  Medium         NO  Tier 3          Cozmo   \n",
            "\n",
            "      I_O_Sales  \n",
            "7     4202.7636  \n",
            "18    2483.6680  \n",
            "21    4244.0432  \n",
            "23     394.3876  \n",
            "29     305.8362  \n",
            "...         ...  \n",
            "8485  6441.8490  \n",
            "8487  4291.3150  \n",
            "8488  2936.4120  \n",
            "8490   667.3656  \n",
            "8504  4318.6128  \n",
            "\n",
            "[1463 rows x 14 columns]\n"
          ]
        }
      ]
    },
    {
      "cell_type": "code",
      "source": [
        "data.dtypes"
      ],
      "metadata": {
        "colab": {
          "base_uri": "https://localhost:8080/"
        },
        "id": "HvOnOM_dgPOa",
        "outputId": "be96cb97-bf3b-4497-de85-999309a72522"
      },
      "execution_count": 212,
      "outputs": [
        {
          "output_type": "execute_result",
          "data": {
            "text/plain": [
              "I_Id           object\n",
              "I_W           float64\n",
              "I_Fat_C        object\n",
              "I_Vis         float64\n",
              "I_MRP_JD      float64\n",
              "I_category     object\n",
              "I_MRP_US      float64\n",
              "O_Id           object\n",
              "O_Establ_Y      int64\n",
              "O_Size         object\n",
              "I_Recalled     object\n",
              "O_Loc_T        object\n",
              "O_T            object\n",
              "I_O_Sales     float64\n",
              "dtype: object"
            ]
          },
          "metadata": {},
          "execution_count": 212
        }
      ]
    },
    {
      "cell_type": "code",
      "source": [
        "data['O_Size'].value_counts()"
      ],
      "metadata": {
        "colab": {
          "base_uri": "https://localhost:8080/"
        },
        "id": "QwXDaAzg1rqB",
        "outputId": "89eade63-780e-471d-b5a3-b7ccadd5646f"
      },
      "execution_count": 213,
      "outputs": [
        {
          "output_type": "execute_result",
          "data": {
            "text/plain": [
              "Medium    2793\n",
              "Small     2388\n",
              "High       932\n",
              "Name: O_Size, dtype: int64"
            ]
          },
          "metadata": {},
          "execution_count": 213
        }
      ]
    },
    {
      "cell_type": "code",
      "source": [
        "data['I_Id'].value_counts()"
      ],
      "metadata": {
        "colab": {
          "base_uri": "https://localhost:8080/"
        },
        "id": "xKIYTfOd_vou",
        "outputId": "a60c37ef-2ce0-43d6-849e-30018bac38bc"
      },
      "execution_count": 214,
      "outputs": [
        {
          "output_type": "execute_result",
          "data": {
            "text/plain": [
              "FDW13    10\n",
              "FDG33    10\n",
              "NCY18     9\n",
              "FDD38     9\n",
              "DRE49     9\n",
              "         ..\n",
              "FDY43     1\n",
              "FDQ60     1\n",
              "FDO33     1\n",
              "DRF48     1\n",
              "FDC23     1\n",
              "Name: I_Id, Length: 1559, dtype: int64"
            ]
          },
          "metadata": {},
          "execution_count": 214
        }
      ]
    },
    {
      "cell_type": "code",
      "source": [
        "data['I_W'].value_counts()"
      ],
      "metadata": {
        "colab": {
          "base_uri": "https://localhost:8080/"
        },
        "id": "zlWnPEls_8Xj",
        "outputId": "a5766f1f-4c9b-4c27-8a16-4b1458f9d53d"
      },
      "execution_count": 215,
      "outputs": [
        {
          "output_type": "execute_result",
          "data": {
            "text/plain": [
              "12.150    86\n",
              "17.600    82\n",
              "13.650    77\n",
              "11.800    76\n",
              "15.100    68\n",
              "          ..\n",
              "7.275      2\n",
              "7.685      1\n",
              "9.420      1\n",
              "6.520      1\n",
              "5.400      1\n",
              "Name: I_W, Length: 415, dtype: int64"
            ]
          },
          "metadata": {},
          "execution_count": 215
        }
      ]
    },
    {
      "cell_type": "code",
      "source": [
        "data['I_Fat_C'].value_counts()"
      ],
      "metadata": {
        "colab": {
          "base_uri": "https://localhost:8080/"
        },
        "id": "_WG86woSAe5_",
        "outputId": "881bb690-0db9-4362-865f-75c83a25b018"
      },
      "execution_count": 216,
      "outputs": [
        {
          "output_type": "execute_result",
          "data": {
            "text/plain": [
              "Low Fat    5089\n",
              "Regular    2889\n",
              "LF          316\n",
              "reg         117\n",
              "low fat     112\n",
              "Name: I_Fat_C, dtype: int64"
            ]
          },
          "metadata": {},
          "execution_count": 216
        }
      ]
    },
    {
      "cell_type": "markdown",
      "source": [
        "deleting the 'I_MRP_JD' column "
      ],
      "metadata": {
        "id": "3dy21l5a7Y3F"
      }
    },
    {
      "cell_type": "code",
      "source": [
        "del data['I_MRP_JD']"
      ],
      "metadata": {
        "id": "VQ2kcZr004nb"
      },
      "execution_count": 217,
      "outputs": []
    },
    {
      "cell_type": "code",
      "source": [
        "data.head(20)"
      ],
      "metadata": {
        "colab": {
          "base_uri": "https://localhost:8080/",
          "height": 879
        },
        "id": "SmyRJRwp1Dc6",
        "outputId": "d5735ee7-a66c-4ce6-a038-2877ce068ef1"
      },
      "execution_count": 218,
      "outputs": [
        {
          "output_type": "execute_result",
          "data": {
            "text/plain": [
              "     I_Id     I_W  I_Fat_C     I_Vis             I_category  I_MRP_US    O_Id  \\\n",
              "0   FDA15   9.300  Low Fat  0.016172                  Dairy  317.8092  OUT049   \n",
              "1   DRC01   5.920  Regular  0.019403            Soft Drinks  116.2692  OUT018   \n",
              "2   FDN15  17.500  Low Fat  0.016885                   Meat  209.6180  OUT049   \n",
              "3   FDX07  19.200  Regular  0.000000  Fruits and Vegetables  250.0950  OUT010   \n",
              "4   NCD19   8.930  Low Fat  0.000000              Household  121.8614  OUT013   \n",
              "5   FDP36  10.395  Regular  0.000000           Baking Goods  119.4008  OUT018   \n",
              "6   FDO10  13.650  Regular  0.012866            Snack Foods  125.6588  OUT013   \n",
              "7   FDP10     NaN  Low Fat  0.127595            Snack Foods  175.7622  OUT027   \n",
              "8   FDH17  16.200  Regular  0.016812           Frozen Foods  164.9726  OUT045   \n",
              "9   FDU28  19.200  Regular  0.094575           Frozen Foods  255.8214  OUT017   \n",
              "10  FDY07  11.800  Low Fat  0.000000  Fruits and Vegetables  113.5402  OUT049   \n",
              "11  FDA03  18.500  Regular  0.045589                  Dairy  212.1102  OUT046   \n",
              "12  FDX32  15.100  Regular  0.100139  Fruits and Vegetables  213.4786  OUT049   \n",
              "13  FDS46  17.600  Regular  0.047382            Snack Foods  187.6782  OUT046   \n",
              "14  FDF32  16.350  Low Fat  0.068149  Fruits and Vegetables  264.4426  OUT013   \n",
              "15  FDP49   9.000  Regular  0.069214              Breakfast  124.3614  OUT046   \n",
              "16  NCB42  11.800  Low Fat  0.008721     Health and Hygiene  183.3492  OUT018   \n",
              "17  FDP49   9.000  Regular  0.069321              Breakfast  122.3614  OUT049   \n",
              "18  DRI11     NaN  Low Fat  0.034363            Hard Drinks  181.2834  OUT027   \n",
              "19  FDU02  13.350  Low Fat  0.102617                  Dairy  298.5352  OUT035   \n",
              "\n",
              "    O_Establ_Y  O_Size I_Recalled O_Loc_T            O_T  I_O_Sales  \n",
              "0         2009  Medium         NO  Tier 1      Carrefour  3915.1380  \n",
              "1         2019  Medium        YES  Tier 3         C-Town   623.4228  \n",
              "2         2009  Medium         NO  Tier 1      Carrefour  2277.2700  \n",
              "3         2008     NaN         NO  Tier 3  Family Basket   912.3800  \n",
              "4         1997    High         NO  Tier 3      Carrefour  1174.7052  \n",
              "5         2019  Medium         NO  Tier 3         C-Town   736.6088  \n",
              "6         1997    High         NO  Tier 3      Carrefour   523.5528  \n",
              "7         1995  Medium         NO  Tier 3          Cozmo  4202.7636  \n",
              "8         2012     NaN         NO  Tier 2      Carrefour  1256.5986  \n",
              "9         2017     NaN         NO  Tier 2      Carrefour  4890.5350  \n",
              "10        2009  Medium         NO  Tier 1      Carrefour  1696.0266  \n",
              "11        2007   Small         NO  Tier 1      Carrefour  2367.1530  \n",
              "12        2009  Medium         NO  Tier 1      Carrefour  1769.2646  \n",
              "13        2007   Small        YES  Tier 1      Carrefour  2325.2076  \n",
              "14        1997    High         NO  Tier 3      Carrefour  2157.4260  \n",
              "15        2007   Small         NO  Tier 1      Carrefour  1727.3192  \n",
              "16        2019  Medium         NO  Tier 3         C-Town  1801.8888  \n",
              "17        2009  Medium         NO  Tier 1      Carrefour   898.3982  \n",
              "18        1995  Medium        YES  Tier 3          Cozmo  2483.6680  \n",
              "19        2014   Small         NO  Tier 2      Carrefour  2928.4224  "
            ],
            "text/html": [
              "\n",
              "  <div id=\"df-6386d1f0-646f-4ab6-ba3d-f107f90fb82d\">\n",
              "    <div class=\"colab-df-container\">\n",
              "      <div>\n",
              "<style scoped>\n",
              "    .dataframe tbody tr th:only-of-type {\n",
              "        vertical-align: middle;\n",
              "    }\n",
              "\n",
              "    .dataframe tbody tr th {\n",
              "        vertical-align: top;\n",
              "    }\n",
              "\n",
              "    .dataframe thead th {\n",
              "        text-align: right;\n",
              "    }\n",
              "</style>\n",
              "<table border=\"1\" class=\"dataframe\">\n",
              "  <thead>\n",
              "    <tr style=\"text-align: right;\">\n",
              "      <th></th>\n",
              "      <th>I_Id</th>\n",
              "      <th>I_W</th>\n",
              "      <th>I_Fat_C</th>\n",
              "      <th>I_Vis</th>\n",
              "      <th>I_category</th>\n",
              "      <th>I_MRP_US</th>\n",
              "      <th>O_Id</th>\n",
              "      <th>O_Establ_Y</th>\n",
              "      <th>O_Size</th>\n",
              "      <th>I_Recalled</th>\n",
              "      <th>O_Loc_T</th>\n",
              "      <th>O_T</th>\n",
              "      <th>I_O_Sales</th>\n",
              "    </tr>\n",
              "  </thead>\n",
              "  <tbody>\n",
              "    <tr>\n",
              "      <th>0</th>\n",
              "      <td>FDA15</td>\n",
              "      <td>9.300</td>\n",
              "      <td>Low Fat</td>\n",
              "      <td>0.016172</td>\n",
              "      <td>Dairy</td>\n",
              "      <td>317.8092</td>\n",
              "      <td>OUT049</td>\n",
              "      <td>2009</td>\n",
              "      <td>Medium</td>\n",
              "      <td>NO</td>\n",
              "      <td>Tier 1</td>\n",
              "      <td>Carrefour</td>\n",
              "      <td>3915.1380</td>\n",
              "    </tr>\n",
              "    <tr>\n",
              "      <th>1</th>\n",
              "      <td>DRC01</td>\n",
              "      <td>5.920</td>\n",
              "      <td>Regular</td>\n",
              "      <td>0.019403</td>\n",
              "      <td>Soft Drinks</td>\n",
              "      <td>116.2692</td>\n",
              "      <td>OUT018</td>\n",
              "      <td>2019</td>\n",
              "      <td>Medium</td>\n",
              "      <td>YES</td>\n",
              "      <td>Tier 3</td>\n",
              "      <td>C-Town</td>\n",
              "      <td>623.4228</td>\n",
              "    </tr>\n",
              "    <tr>\n",
              "      <th>2</th>\n",
              "      <td>FDN15</td>\n",
              "      <td>17.500</td>\n",
              "      <td>Low Fat</td>\n",
              "      <td>0.016885</td>\n",
              "      <td>Meat</td>\n",
              "      <td>209.6180</td>\n",
              "      <td>OUT049</td>\n",
              "      <td>2009</td>\n",
              "      <td>Medium</td>\n",
              "      <td>NO</td>\n",
              "      <td>Tier 1</td>\n",
              "      <td>Carrefour</td>\n",
              "      <td>2277.2700</td>\n",
              "    </tr>\n",
              "    <tr>\n",
              "      <th>3</th>\n",
              "      <td>FDX07</td>\n",
              "      <td>19.200</td>\n",
              "      <td>Regular</td>\n",
              "      <td>0.000000</td>\n",
              "      <td>Fruits and Vegetables</td>\n",
              "      <td>250.0950</td>\n",
              "      <td>OUT010</td>\n",
              "      <td>2008</td>\n",
              "      <td>NaN</td>\n",
              "      <td>NO</td>\n",
              "      <td>Tier 3</td>\n",
              "      <td>Family Basket</td>\n",
              "      <td>912.3800</td>\n",
              "    </tr>\n",
              "    <tr>\n",
              "      <th>4</th>\n",
              "      <td>NCD19</td>\n",
              "      <td>8.930</td>\n",
              "      <td>Low Fat</td>\n",
              "      <td>0.000000</td>\n",
              "      <td>Household</td>\n",
              "      <td>121.8614</td>\n",
              "      <td>OUT013</td>\n",
              "      <td>1997</td>\n",
              "      <td>High</td>\n",
              "      <td>NO</td>\n",
              "      <td>Tier 3</td>\n",
              "      <td>Carrefour</td>\n",
              "      <td>1174.7052</td>\n",
              "    </tr>\n",
              "    <tr>\n",
              "      <th>5</th>\n",
              "      <td>FDP36</td>\n",
              "      <td>10.395</td>\n",
              "      <td>Regular</td>\n",
              "      <td>0.000000</td>\n",
              "      <td>Baking Goods</td>\n",
              "      <td>119.4008</td>\n",
              "      <td>OUT018</td>\n",
              "      <td>2019</td>\n",
              "      <td>Medium</td>\n",
              "      <td>NO</td>\n",
              "      <td>Tier 3</td>\n",
              "      <td>C-Town</td>\n",
              "      <td>736.6088</td>\n",
              "    </tr>\n",
              "    <tr>\n",
              "      <th>6</th>\n",
              "      <td>FDO10</td>\n",
              "      <td>13.650</td>\n",
              "      <td>Regular</td>\n",
              "      <td>0.012866</td>\n",
              "      <td>Snack Foods</td>\n",
              "      <td>125.6588</td>\n",
              "      <td>OUT013</td>\n",
              "      <td>1997</td>\n",
              "      <td>High</td>\n",
              "      <td>NO</td>\n",
              "      <td>Tier 3</td>\n",
              "      <td>Carrefour</td>\n",
              "      <td>523.5528</td>\n",
              "    </tr>\n",
              "    <tr>\n",
              "      <th>7</th>\n",
              "      <td>FDP10</td>\n",
              "      <td>NaN</td>\n",
              "      <td>Low Fat</td>\n",
              "      <td>0.127595</td>\n",
              "      <td>Snack Foods</td>\n",
              "      <td>175.7622</td>\n",
              "      <td>OUT027</td>\n",
              "      <td>1995</td>\n",
              "      <td>Medium</td>\n",
              "      <td>NO</td>\n",
              "      <td>Tier 3</td>\n",
              "      <td>Cozmo</td>\n",
              "      <td>4202.7636</td>\n",
              "    </tr>\n",
              "    <tr>\n",
              "      <th>8</th>\n",
              "      <td>FDH17</td>\n",
              "      <td>16.200</td>\n",
              "      <td>Regular</td>\n",
              "      <td>0.016812</td>\n",
              "      <td>Frozen Foods</td>\n",
              "      <td>164.9726</td>\n",
              "      <td>OUT045</td>\n",
              "      <td>2012</td>\n",
              "      <td>NaN</td>\n",
              "      <td>NO</td>\n",
              "      <td>Tier 2</td>\n",
              "      <td>Carrefour</td>\n",
              "      <td>1256.5986</td>\n",
              "    </tr>\n",
              "    <tr>\n",
              "      <th>9</th>\n",
              "      <td>FDU28</td>\n",
              "      <td>19.200</td>\n",
              "      <td>Regular</td>\n",
              "      <td>0.094575</td>\n",
              "      <td>Frozen Foods</td>\n",
              "      <td>255.8214</td>\n",
              "      <td>OUT017</td>\n",
              "      <td>2017</td>\n",
              "      <td>NaN</td>\n",
              "      <td>NO</td>\n",
              "      <td>Tier 2</td>\n",
              "      <td>Carrefour</td>\n",
              "      <td>4890.5350</td>\n",
              "    </tr>\n",
              "    <tr>\n",
              "      <th>10</th>\n",
              "      <td>FDY07</td>\n",
              "      <td>11.800</td>\n",
              "      <td>Low Fat</td>\n",
              "      <td>0.000000</td>\n",
              "      <td>Fruits and Vegetables</td>\n",
              "      <td>113.5402</td>\n",
              "      <td>OUT049</td>\n",
              "      <td>2009</td>\n",
              "      <td>Medium</td>\n",
              "      <td>NO</td>\n",
              "      <td>Tier 1</td>\n",
              "      <td>Carrefour</td>\n",
              "      <td>1696.0266</td>\n",
              "    </tr>\n",
              "    <tr>\n",
              "      <th>11</th>\n",
              "      <td>FDA03</td>\n",
              "      <td>18.500</td>\n",
              "      <td>Regular</td>\n",
              "      <td>0.045589</td>\n",
              "      <td>Dairy</td>\n",
              "      <td>212.1102</td>\n",
              "      <td>OUT046</td>\n",
              "      <td>2007</td>\n",
              "      <td>Small</td>\n",
              "      <td>NO</td>\n",
              "      <td>Tier 1</td>\n",
              "      <td>Carrefour</td>\n",
              "      <td>2367.1530</td>\n",
              "    </tr>\n",
              "    <tr>\n",
              "      <th>12</th>\n",
              "      <td>FDX32</td>\n",
              "      <td>15.100</td>\n",
              "      <td>Regular</td>\n",
              "      <td>0.100139</td>\n",
              "      <td>Fruits and Vegetables</td>\n",
              "      <td>213.4786</td>\n",
              "      <td>OUT049</td>\n",
              "      <td>2009</td>\n",
              "      <td>Medium</td>\n",
              "      <td>NO</td>\n",
              "      <td>Tier 1</td>\n",
              "      <td>Carrefour</td>\n",
              "      <td>1769.2646</td>\n",
              "    </tr>\n",
              "    <tr>\n",
              "      <th>13</th>\n",
              "      <td>FDS46</td>\n",
              "      <td>17.600</td>\n",
              "      <td>Regular</td>\n",
              "      <td>0.047382</td>\n",
              "      <td>Snack Foods</td>\n",
              "      <td>187.6782</td>\n",
              "      <td>OUT046</td>\n",
              "      <td>2007</td>\n",
              "      <td>Small</td>\n",
              "      <td>YES</td>\n",
              "      <td>Tier 1</td>\n",
              "      <td>Carrefour</td>\n",
              "      <td>2325.2076</td>\n",
              "    </tr>\n",
              "    <tr>\n",
              "      <th>14</th>\n",
              "      <td>FDF32</td>\n",
              "      <td>16.350</td>\n",
              "      <td>Low Fat</td>\n",
              "      <td>0.068149</td>\n",
              "      <td>Fruits and Vegetables</td>\n",
              "      <td>264.4426</td>\n",
              "      <td>OUT013</td>\n",
              "      <td>1997</td>\n",
              "      <td>High</td>\n",
              "      <td>NO</td>\n",
              "      <td>Tier 3</td>\n",
              "      <td>Carrefour</td>\n",
              "      <td>2157.4260</td>\n",
              "    </tr>\n",
              "    <tr>\n",
              "      <th>15</th>\n",
              "      <td>FDP49</td>\n",
              "      <td>9.000</td>\n",
              "      <td>Regular</td>\n",
              "      <td>0.069214</td>\n",
              "      <td>Breakfast</td>\n",
              "      <td>124.3614</td>\n",
              "      <td>OUT046</td>\n",
              "      <td>2007</td>\n",
              "      <td>Small</td>\n",
              "      <td>NO</td>\n",
              "      <td>Tier 1</td>\n",
              "      <td>Carrefour</td>\n",
              "      <td>1727.3192</td>\n",
              "    </tr>\n",
              "    <tr>\n",
              "      <th>16</th>\n",
              "      <td>NCB42</td>\n",
              "      <td>11.800</td>\n",
              "      <td>Low Fat</td>\n",
              "      <td>0.008721</td>\n",
              "      <td>Health and Hygiene</td>\n",
              "      <td>183.3492</td>\n",
              "      <td>OUT018</td>\n",
              "      <td>2019</td>\n",
              "      <td>Medium</td>\n",
              "      <td>NO</td>\n",
              "      <td>Tier 3</td>\n",
              "      <td>C-Town</td>\n",
              "      <td>1801.8888</td>\n",
              "    </tr>\n",
              "    <tr>\n",
              "      <th>17</th>\n",
              "      <td>FDP49</td>\n",
              "      <td>9.000</td>\n",
              "      <td>Regular</td>\n",
              "      <td>0.069321</td>\n",
              "      <td>Breakfast</td>\n",
              "      <td>122.3614</td>\n",
              "      <td>OUT049</td>\n",
              "      <td>2009</td>\n",
              "      <td>Medium</td>\n",
              "      <td>NO</td>\n",
              "      <td>Tier 1</td>\n",
              "      <td>Carrefour</td>\n",
              "      <td>898.3982</td>\n",
              "    </tr>\n",
              "    <tr>\n",
              "      <th>18</th>\n",
              "      <td>DRI11</td>\n",
              "      <td>NaN</td>\n",
              "      <td>Low Fat</td>\n",
              "      <td>0.034363</td>\n",
              "      <td>Hard Drinks</td>\n",
              "      <td>181.2834</td>\n",
              "      <td>OUT027</td>\n",
              "      <td>1995</td>\n",
              "      <td>Medium</td>\n",
              "      <td>YES</td>\n",
              "      <td>Tier 3</td>\n",
              "      <td>Cozmo</td>\n",
              "      <td>2483.6680</td>\n",
              "    </tr>\n",
              "    <tr>\n",
              "      <th>19</th>\n",
              "      <td>FDU02</td>\n",
              "      <td>13.350</td>\n",
              "      <td>Low Fat</td>\n",
              "      <td>0.102617</td>\n",
              "      <td>Dairy</td>\n",
              "      <td>298.5352</td>\n",
              "      <td>OUT035</td>\n",
              "      <td>2014</td>\n",
              "      <td>Small</td>\n",
              "      <td>NO</td>\n",
              "      <td>Tier 2</td>\n",
              "      <td>Carrefour</td>\n",
              "      <td>2928.4224</td>\n",
              "    </tr>\n",
              "  </tbody>\n",
              "</table>\n",
              "</div>\n",
              "      <button class=\"colab-df-convert\" onclick=\"convertToInteractive('df-6386d1f0-646f-4ab6-ba3d-f107f90fb82d')\"\n",
              "              title=\"Convert this dataframe to an interactive table.\"\n",
              "              style=\"display:none;\">\n",
              "        \n",
              "  <svg xmlns=\"http://www.w3.org/2000/svg\" height=\"24px\"viewBox=\"0 0 24 24\"\n",
              "       width=\"24px\">\n",
              "    <path d=\"M0 0h24v24H0V0z\" fill=\"none\"/>\n",
              "    <path d=\"M18.56 5.44l.94 2.06.94-2.06 2.06-.94-2.06-.94-.94-2.06-.94 2.06-2.06.94zm-11 1L8.5 8.5l.94-2.06 2.06-.94-2.06-.94L8.5 2.5l-.94 2.06-2.06.94zm10 10l.94 2.06.94-2.06 2.06-.94-2.06-.94-.94-2.06-.94 2.06-2.06.94z\"/><path d=\"M17.41 7.96l-1.37-1.37c-.4-.4-.92-.59-1.43-.59-.52 0-1.04.2-1.43.59L10.3 9.45l-7.72 7.72c-.78.78-.78 2.05 0 2.83L4 21.41c.39.39.9.59 1.41.59.51 0 1.02-.2 1.41-.59l7.78-7.78 2.81-2.81c.8-.78.8-2.07 0-2.86zM5.41 20L4 18.59l7.72-7.72 1.47 1.35L5.41 20z\"/>\n",
              "  </svg>\n",
              "      </button>\n",
              "      \n",
              "  <style>\n",
              "    .colab-df-container {\n",
              "      display:flex;\n",
              "      flex-wrap:wrap;\n",
              "      gap: 12px;\n",
              "    }\n",
              "\n",
              "    .colab-df-convert {\n",
              "      background-color: #E8F0FE;\n",
              "      border: none;\n",
              "      border-radius: 50%;\n",
              "      cursor: pointer;\n",
              "      display: none;\n",
              "      fill: #1967D2;\n",
              "      height: 32px;\n",
              "      padding: 0 0 0 0;\n",
              "      width: 32px;\n",
              "    }\n",
              "\n",
              "    .colab-df-convert:hover {\n",
              "      background-color: #E2EBFA;\n",
              "      box-shadow: 0px 1px 2px rgba(60, 64, 67, 0.3), 0px 1px 3px 1px rgba(60, 64, 67, 0.15);\n",
              "      fill: #174EA6;\n",
              "    }\n",
              "\n",
              "    [theme=dark] .colab-df-convert {\n",
              "      background-color: #3B4455;\n",
              "      fill: #D2E3FC;\n",
              "    }\n",
              "\n",
              "    [theme=dark] .colab-df-convert:hover {\n",
              "      background-color: #434B5C;\n",
              "      box-shadow: 0px 1px 3px 1px rgba(0, 0, 0, 0.15);\n",
              "      filter: drop-shadow(0px 1px 2px rgba(0, 0, 0, 0.3));\n",
              "      fill: #FFFFFF;\n",
              "    }\n",
              "  </style>\n",
              "\n",
              "      <script>\n",
              "        const buttonEl =\n",
              "          document.querySelector('#df-6386d1f0-646f-4ab6-ba3d-f107f90fb82d button.colab-df-convert');\n",
              "        buttonEl.style.display =\n",
              "          google.colab.kernel.accessAllowed ? 'block' : 'none';\n",
              "\n",
              "        async function convertToInteractive(key) {\n",
              "          const element = document.querySelector('#df-6386d1f0-646f-4ab6-ba3d-f107f90fb82d');\n",
              "          const dataTable =\n",
              "            await google.colab.kernel.invokeFunction('convertToInteractive',\n",
              "                                                     [key], {});\n",
              "          if (!dataTable) return;\n",
              "\n",
              "          const docLinkHtml = 'Like what you see? Visit the ' +\n",
              "            '<a target=\"_blank\" href=https://colab.research.google.com/notebooks/data_table.ipynb>data table notebook</a>'\n",
              "            + ' to learn more about interactive tables.';\n",
              "          element.innerHTML = '';\n",
              "          dataTable['output_type'] = 'display_data';\n",
              "          await google.colab.output.renderOutput(dataTable, element);\n",
              "          const docLink = document.createElement('div');\n",
              "          docLink.innerHTML = docLinkHtml;\n",
              "          element.appendChild(docLink);\n",
              "        }\n",
              "      </script>\n",
              "    </div>\n",
              "  </div>\n",
              "  "
            ]
          },
          "metadata": {},
          "execution_count": 218
        }
      ]
    },
    {
      "cell_type": "markdown",
      "source": [
        "replacing the variable LF with Low Fat"
      ],
      "metadata": {
        "id": "x-YwovJM6_4W"
      }
    },
    {
      "cell_type": "code",
      "source": [
        "data['I_Fat_C'] = data['I_Fat_C'].replace(['LF'], 'Low Fat')\n"
      ],
      "metadata": {
        "id": "m0ItmDfE5pAS"
      },
      "execution_count": 219,
      "outputs": []
    },
    {
      "cell_type": "markdown",
      "source": [
        "replacing the variable reg with Regular"
      ],
      "metadata": {
        "id": "kPn9LvbN7Nuz"
      }
    },
    {
      "cell_type": "code",
      "source": [
        "data['I_Fat_C'] = data['I_Fat_C'].replace(['reg'], 'Regular')\n"
      ],
      "metadata": {
        "id": "qb0V-XZh6t06"
      },
      "execution_count": 220,
      "outputs": []
    },
    {
      "cell_type": "markdown",
      "source": [
        "replacing the variable low fat with Low Fat"
      ],
      "metadata": {
        "id": "LyJLu00m7Sye"
      }
    },
    {
      "cell_type": "code",
      "source": [
        "data['I_Fat_C'] = data['I_Fat_C'].replace(['low fat'], 'Low Fat')\n"
      ],
      "metadata": {
        "id": "XKJikC_h62ur"
      },
      "execution_count": 221,
      "outputs": []
    },
    {
      "cell_type": "code",
      "source": [],
      "metadata": {
        "id": "zF5xD5vNCwUE"
      },
      "execution_count": 221,
      "outputs": []
    },
    {
      "cell_type": "code",
      "source": [
        "data['I_W'] = data.groupby('I_Id')['I_W'].transform(lambda x: x.fillna(x.mode(False)[0]))\n",
        "#data['I_W'] = data['I_W'].fillna(data.groupby('I_Id')['I_W'].transform('mean'))"
      ],
      "metadata": {
        "id": "nZCWQx9EJd17"
      },
      "execution_count": 222,
      "outputs": []
    },
    {
      "cell_type": "code",
      "source": [
        "data['I_W'] = data['I_W'].where(data['I_Id']!='FDH52', 9.42, axis=0)\n"
      ],
      "metadata": {
        "id": "xWfyuhvsuISn"
      },
      "execution_count": 223,
      "outputs": []
    },
    {
      "cell_type": "code",
      "source": [
        "data['I_W'] = data['I_W'].where(data['I_Id']!='NCU29', 7.685, axis=0)\n",
        "\n"
      ],
      "metadata": {
        "id": "uyP9jFXYuguv"
      },
      "execution_count": 224,
      "outputs": []
    },
    {
      "cell_type": "code",
      "source": [
        "data['I_W'] = data['I_W'].where(data['I_Id']!='NCT53', 5.4, axis=0)\n"
      ],
      "metadata": {
        "id": "wX6I8fhMuo8x"
      },
      "execution_count": 225,
      "outputs": []
    },
    {
      "cell_type": "code",
      "source": [
        "data['I_W']=data['I_W'].fillna(data['I_W'].mean())"
      ],
      "metadata": {
        "id": "cA2s9x9MvGZ9"
      },
      "execution_count": 226,
      "outputs": []
    },
    {
      "cell_type": "code",
      "source": [
        "probability = data['O_Size'].value_counts() / data['O_Size'].count()\n",
        "data['O_Size'] = data['O_Size'].fillna(pd.Series(np.random.choice(list(probability.index), p=probability, size=len(data))))"
      ],
      "metadata": {
        "id": "XUVygGBz3PAB"
      },
      "execution_count": 227,
      "outputs": []
    },
    {
      "cell_type": "code",
      "source": [
        "data.to_csv(\"saifhaddad.csv\")"
      ],
      "metadata": {
        "id": "MizjM3yan0cy"
      },
      "execution_count": 228,
      "outputs": []
    },
    {
      "cell_type": "code",
      "source": [
        "\n",
        "#train_size = int(len(data['I_O_Sales']) * 0.8)\n",
        "#sales_train = data['I_O_Sales'][:train_size]\n",
        "#total_product_sales_train = total_product_sales[:train_size]\n",
        "#sales_test = data['I_O_Sales'][train_size:]\n",
        "#total_product_sales_test = total_product_sales[train_size:]\n",
        "data.isnull().sum()"
      ],
      "metadata": {
        "id": "5rr7MvmgKOU8",
        "colab": {
          "base_uri": "https://localhost:8080/"
        },
        "outputId": "e4bdd71d-f554-42db-9c54-8118d42475ba"
      },
      "execution_count": 229,
      "outputs": [
        {
          "output_type": "execute_result",
          "data": {
            "text/plain": [
              "I_Id          0\n",
              "I_W           0\n",
              "I_Fat_C       0\n",
              "I_Vis         0\n",
              "I_category    0\n",
              "I_MRP_US      0\n",
              "O_Id          0\n",
              "O_Establ_Y    0\n",
              "O_Size        0\n",
              "I_Recalled    0\n",
              "O_Loc_T       0\n",
              "O_T           0\n",
              "I_O_Sales     0\n",
              "dtype: int64"
            ]
          },
          "metadata": {},
          "execution_count": 229
        }
      ]
    },
    {
      "cell_type": "code",
      "source": [
        "#data['I_W']=data['I_W'].astype(float)\n",
        "#data['I_W'] = pd.to_numeric(data['I_W'])\n",
        "# data['I_W'] = pd.factorize(data['I_W'])[0]"
      ],
      "metadata": {
        "id": "o3gKdGSWYp9n"
      },
      "execution_count": 230,
      "outputs": []
    },
    {
      "cell_type": "code",
      "source": [
        "data.dtypes"
      ],
      "metadata": {
        "colab": {
          "base_uri": "https://localhost:8080/"
        },
        "id": "T9iy7qFea7Zj",
        "outputId": "aea0ba25-c0b4-4438-c5e0-860a62b1f830"
      },
      "execution_count": 231,
      "outputs": [
        {
          "output_type": "execute_result",
          "data": {
            "text/plain": [
              "I_Id           object\n",
              "I_W           float64\n",
              "I_Fat_C        object\n",
              "I_Vis         float64\n",
              "I_category     object\n",
              "I_MRP_US      float64\n",
              "O_Id           object\n",
              "O_Establ_Y      int64\n",
              "O_Size         object\n",
              "I_Recalled     object\n",
              "O_Loc_T        object\n",
              "O_T            object\n",
              "I_O_Sales     float64\n",
              "dtype: object"
            ]
          },
          "metadata": {},
          "execution_count": 231
        }
      ]
    },
    {
      "cell_type": "code",
      "source": [
        "cat_columns= data.select_dtypes(['object']).columns\n",
        "data[cat_columns] = data[cat_columns].apply(lambda x: pd.factorize(x)[0])\n",
        "data.head()"
      ],
      "metadata": {
        "colab": {
          "base_uri": "https://localhost:8080/",
          "height": 270
        },
        "id": "Nf0vtLalXZCG",
        "outputId": "62ce41af-f7b4-48ef-ba1d-a7689cd4dd30"
      },
      "execution_count": 232,
      "outputs": [
        {
          "output_type": "execute_result",
          "data": {
            "text/plain": [
              "   I_Id    I_W  I_Fat_C     I_Vis  I_category  I_MRP_US  O_Id  O_Establ_Y  \\\n",
              "0     0   9.30        0  0.016172           0  317.8092     0        2009   \n",
              "1     1   5.92        1  0.019403           1  116.2692     1        2019   \n",
              "2     2  17.50        0  0.016885           2  209.6180     0        2009   \n",
              "3     3  19.20        1  0.000000           3  250.0950     2        2008   \n",
              "4     4   8.93        0  0.000000           4  121.8614     3        1997   \n",
              "\n",
              "   O_Size  I_Recalled  O_Loc_T  O_T  I_O_Sales  \n",
              "0       0           0        0    0  3915.1380  \n",
              "1       0           1        1    1   623.4228  \n",
              "2       0           0        0    0  2277.2700  \n",
              "3       0           0        1    2   912.3800  \n",
              "4       1           0        1    0  1174.7052  "
            ],
            "text/html": [
              "\n",
              "  <div id=\"df-9efd6843-56f9-4874-a4d1-83c105a2ff33\">\n",
              "    <div class=\"colab-df-container\">\n",
              "      <div>\n",
              "<style scoped>\n",
              "    .dataframe tbody tr th:only-of-type {\n",
              "        vertical-align: middle;\n",
              "    }\n",
              "\n",
              "    .dataframe tbody tr th {\n",
              "        vertical-align: top;\n",
              "    }\n",
              "\n",
              "    .dataframe thead th {\n",
              "        text-align: right;\n",
              "    }\n",
              "</style>\n",
              "<table border=\"1\" class=\"dataframe\">\n",
              "  <thead>\n",
              "    <tr style=\"text-align: right;\">\n",
              "      <th></th>\n",
              "      <th>I_Id</th>\n",
              "      <th>I_W</th>\n",
              "      <th>I_Fat_C</th>\n",
              "      <th>I_Vis</th>\n",
              "      <th>I_category</th>\n",
              "      <th>I_MRP_US</th>\n",
              "      <th>O_Id</th>\n",
              "      <th>O_Establ_Y</th>\n",
              "      <th>O_Size</th>\n",
              "      <th>I_Recalled</th>\n",
              "      <th>O_Loc_T</th>\n",
              "      <th>O_T</th>\n",
              "      <th>I_O_Sales</th>\n",
              "    </tr>\n",
              "  </thead>\n",
              "  <tbody>\n",
              "    <tr>\n",
              "      <th>0</th>\n",
              "      <td>0</td>\n",
              "      <td>9.30</td>\n",
              "      <td>0</td>\n",
              "      <td>0.016172</td>\n",
              "      <td>0</td>\n",
              "      <td>317.8092</td>\n",
              "      <td>0</td>\n",
              "      <td>2009</td>\n",
              "      <td>0</td>\n",
              "      <td>0</td>\n",
              "      <td>0</td>\n",
              "      <td>0</td>\n",
              "      <td>3915.1380</td>\n",
              "    </tr>\n",
              "    <tr>\n",
              "      <th>1</th>\n",
              "      <td>1</td>\n",
              "      <td>5.92</td>\n",
              "      <td>1</td>\n",
              "      <td>0.019403</td>\n",
              "      <td>1</td>\n",
              "      <td>116.2692</td>\n",
              "      <td>1</td>\n",
              "      <td>2019</td>\n",
              "      <td>0</td>\n",
              "      <td>1</td>\n",
              "      <td>1</td>\n",
              "      <td>1</td>\n",
              "      <td>623.4228</td>\n",
              "    </tr>\n",
              "    <tr>\n",
              "      <th>2</th>\n",
              "      <td>2</td>\n",
              "      <td>17.50</td>\n",
              "      <td>0</td>\n",
              "      <td>0.016885</td>\n",
              "      <td>2</td>\n",
              "      <td>209.6180</td>\n",
              "      <td>0</td>\n",
              "      <td>2009</td>\n",
              "      <td>0</td>\n",
              "      <td>0</td>\n",
              "      <td>0</td>\n",
              "      <td>0</td>\n",
              "      <td>2277.2700</td>\n",
              "    </tr>\n",
              "    <tr>\n",
              "      <th>3</th>\n",
              "      <td>3</td>\n",
              "      <td>19.20</td>\n",
              "      <td>1</td>\n",
              "      <td>0.000000</td>\n",
              "      <td>3</td>\n",
              "      <td>250.0950</td>\n",
              "      <td>2</td>\n",
              "      <td>2008</td>\n",
              "      <td>0</td>\n",
              "      <td>0</td>\n",
              "      <td>1</td>\n",
              "      <td>2</td>\n",
              "      <td>912.3800</td>\n",
              "    </tr>\n",
              "    <tr>\n",
              "      <th>4</th>\n",
              "      <td>4</td>\n",
              "      <td>8.93</td>\n",
              "      <td>0</td>\n",
              "      <td>0.000000</td>\n",
              "      <td>4</td>\n",
              "      <td>121.8614</td>\n",
              "      <td>3</td>\n",
              "      <td>1997</td>\n",
              "      <td>1</td>\n",
              "      <td>0</td>\n",
              "      <td>1</td>\n",
              "      <td>0</td>\n",
              "      <td>1174.7052</td>\n",
              "    </tr>\n",
              "  </tbody>\n",
              "</table>\n",
              "</div>\n",
              "      <button class=\"colab-df-convert\" onclick=\"convertToInteractive('df-9efd6843-56f9-4874-a4d1-83c105a2ff33')\"\n",
              "              title=\"Convert this dataframe to an interactive table.\"\n",
              "              style=\"display:none;\">\n",
              "        \n",
              "  <svg xmlns=\"http://www.w3.org/2000/svg\" height=\"24px\"viewBox=\"0 0 24 24\"\n",
              "       width=\"24px\">\n",
              "    <path d=\"M0 0h24v24H0V0z\" fill=\"none\"/>\n",
              "    <path d=\"M18.56 5.44l.94 2.06.94-2.06 2.06-.94-2.06-.94-.94-2.06-.94 2.06-2.06.94zm-11 1L8.5 8.5l.94-2.06 2.06-.94-2.06-.94L8.5 2.5l-.94 2.06-2.06.94zm10 10l.94 2.06.94-2.06 2.06-.94-2.06-.94-.94-2.06-.94 2.06-2.06.94z\"/><path d=\"M17.41 7.96l-1.37-1.37c-.4-.4-.92-.59-1.43-.59-.52 0-1.04.2-1.43.59L10.3 9.45l-7.72 7.72c-.78.78-.78 2.05 0 2.83L4 21.41c.39.39.9.59 1.41.59.51 0 1.02-.2 1.41-.59l7.78-7.78 2.81-2.81c.8-.78.8-2.07 0-2.86zM5.41 20L4 18.59l7.72-7.72 1.47 1.35L5.41 20z\"/>\n",
              "  </svg>\n",
              "      </button>\n",
              "      \n",
              "  <style>\n",
              "    .colab-df-container {\n",
              "      display:flex;\n",
              "      flex-wrap:wrap;\n",
              "      gap: 12px;\n",
              "    }\n",
              "\n",
              "    .colab-df-convert {\n",
              "      background-color: #E8F0FE;\n",
              "      border: none;\n",
              "      border-radius: 50%;\n",
              "      cursor: pointer;\n",
              "      display: none;\n",
              "      fill: #1967D2;\n",
              "      height: 32px;\n",
              "      padding: 0 0 0 0;\n",
              "      width: 32px;\n",
              "    }\n",
              "\n",
              "    .colab-df-convert:hover {\n",
              "      background-color: #E2EBFA;\n",
              "      box-shadow: 0px 1px 2px rgba(60, 64, 67, 0.3), 0px 1px 3px 1px rgba(60, 64, 67, 0.15);\n",
              "      fill: #174EA6;\n",
              "    }\n",
              "\n",
              "    [theme=dark] .colab-df-convert {\n",
              "      background-color: #3B4455;\n",
              "      fill: #D2E3FC;\n",
              "    }\n",
              "\n",
              "    [theme=dark] .colab-df-convert:hover {\n",
              "      background-color: #434B5C;\n",
              "      box-shadow: 0px 1px 3px 1px rgba(0, 0, 0, 0.15);\n",
              "      filter: drop-shadow(0px 1px 2px rgba(0, 0, 0, 0.3));\n",
              "      fill: #FFFFFF;\n",
              "    }\n",
              "  </style>\n",
              "\n",
              "      <script>\n",
              "        const buttonEl =\n",
              "          document.querySelector('#df-9efd6843-56f9-4874-a4d1-83c105a2ff33 button.colab-df-convert');\n",
              "        buttonEl.style.display =\n",
              "          google.colab.kernel.accessAllowed ? 'block' : 'none';\n",
              "\n",
              "        async function convertToInteractive(key) {\n",
              "          const element = document.querySelector('#df-9efd6843-56f9-4874-a4d1-83c105a2ff33');\n",
              "          const dataTable =\n",
              "            await google.colab.kernel.invokeFunction('convertToInteractive',\n",
              "                                                     [key], {});\n",
              "          if (!dataTable) return;\n",
              "\n",
              "          const docLinkHtml = 'Like what you see? Visit the ' +\n",
              "            '<a target=\"_blank\" href=https://colab.research.google.com/notebooks/data_table.ipynb>data table notebook</a>'\n",
              "            + ' to learn more about interactive tables.';\n",
              "          element.innerHTML = '';\n",
              "          dataTable['output_type'] = 'display_data';\n",
              "          await google.colab.output.renderOutput(dataTable, element);\n",
              "          const docLink = document.createElement('div');\n",
              "          docLink.innerHTML = docLinkHtml;\n",
              "          element.appendChild(docLink);\n",
              "        }\n",
              "      </script>\n",
              "    </div>\n",
              "  </div>\n",
              "  "
            ]
          },
          "metadata": {},
          "execution_count": 232
        }
      ]
    },
    {
      "cell_type": "code",
      "source": [
        "from sklearn.model_selection import train_test_split\n",
        "X=data.drop(['I_O_Sales'],axis=1)\n",
        "y=data['I_O_Sales']\n",
        "X_train , X_test, y_train, y_test =train_test_split(X,y,test_size=0.33,random_state=42)\n"
      ],
      "metadata": {
        "id": "iNAfBfszfjZv"
      },
      "execution_count": 233,
      "outputs": []
    },
    {
      "cell_type": "code",
      "source": [
        "import matplotlib.pyplot as plt\n",
        "from mpl_toolkits.mplot3d import Axes3D\n",
        "def cost_function(X_train, y_train, theta):\n",
        "    m = y.size\n",
        "    error = np.dot(X_train, theta.T) - y_train\n",
        "    cost = 1/(2*m) * np.dot(error.T, error)\n",
        "    return cost, error\n"
      ],
      "metadata": {
        "id": "QgOIi2FsbA7s"
      },
      "execution_count": 234,
      "outputs": []
    },
    {
      "cell_type": "code",
      "source": [
        "def gradient_descent(X_train,y_train, theta, alpha, iters):\n",
        "    cost_array = np.zeros(iters)\n",
        "    m = y_train.size\n",
        "\n",
        "    for i in range(iters):\n",
        "        error = np.dot(X_train, theta.T) - y_train\n",
        "        cost = 1/(2*m) * np.dot(error.T, error)\n",
        "        theta = theta - (alpha * (1/m) * np.dot(X_train.T, error))\n",
        "        cost_array[i] = cost\n",
        "    return theta, cost_array"
      ],
      "metadata": {
        "id": "bplU1Di9YBu1"
      },
      "execution_count": 235,
      "outputs": []
    },
    {
      "cell_type": "code",
      "source": [
        "def predict(X_test, theta):\n",
        "        y_pred = np.dot(X_test, theta)\n",
        "        return y_pred"
      ],
      "metadata": {
        "id": "ppmVxbSsqO7T"
      },
      "execution_count": 236,
      "outputs": []
    },
    {
      "cell_type": "code",
      "source": [
        "def plotChart(iterations, cost_num):\n",
        "    fig, ax = plt.subplots()\n",
        "    ax.plot(np.arange(iterations), cost_num, 'r')\n",
        "    ax.set_xlabel('Iterations')\n",
        "    ax.set_ylabel('Cost')\n",
        "    ax.set_title('Error vs Iterations')\n",
        "    plt.style.use('fivethirtyeight')\n",
        "    plt.show()"
      ],
      "metadata": {
        "id": "pfY_jTxnqScC"
      },
      "execution_count": 237,
      "outputs": []
    },
    {
      "cell_type": "code",
      "source": [
        "X_train_zscore = (X_train - X_train.mean()) / X_train.std()\n",
        "X_test_zscore = (X_test - X_test.mean()) / X_test.std()\n",
        "\n",
        "X_train_zscore = np.c_[np.ones(X_train_zscore.shape[0]), X_train_zscore] \n",
        "X_test_zscore = np.c_[np.ones(X_test_zscore.shape[0]), X_test_zscore] \n",
        "\n",
        "\n",
        "alpha = 0.01\n",
        "iterations = 1000"
      ],
      "metadata": {
        "id": "IfyDDuSCqSeX"
      },
      "execution_count": 238,
      "outputs": []
    },
    {
      "cell_type": "code",
      "source": [
        "theta = np.zeros(X_train_zscore.shape[1])\n",
        "theta, _ = gradient_descent(X_train_zscore,y_train, theta, alpha, iterations)\n",
        "y_pred=predict(X_test_zscore, theta)"
      ],
      "metadata": {
        "id": "TwDyrMVyYyhu"
      },
      "execution_count": 239,
      "outputs": []
    },
    {
      "cell_type": "code",
      "source": [
        "from sklearn.metrics import r2_score,mean_squared_error, mean_absolute_error\n",
        "print('Accuracy of the model is: ', r2_score(y_test,y_pred))\n",
        "print('Mean Squared Error:', mean_squared_error(y_test, y_pred))\n",
        "print('Root Mean Squared Error:', np.sqrt(mean_squared_error(y_test, y_pred)))\n",
        "print('Mean Absolute Error:', mean_absolute_error(y_test, y_pred))"
      ],
      "metadata": {
        "id": "r6tn6IH4ZPrS",
        "colab": {
          "base_uri": "https://localhost:8080/"
        },
        "outputId": "22ec2afb-8817-4a5f-e9f3-331033fcd434"
      },
      "execution_count": 240,
      "outputs": [
        {
          "output_type": "stream",
          "name": "stdout",
          "text": [
            "Accuracy of the model is:  0.375116233960197\n",
            "Mean Squared Error: 1751378.1178318397\n",
            "Root Mean Squared Error: 1323.3964326050752\n",
            "Mean Absolute Error: 999.6977600568003\n"
          ]
        }
      ]
    },
    {
      "cell_type": "code",
      "source": [
        "initial_cost, _ = cost_function(X_train_zscore, y_train, theta)\n",
        "\n",
        "theta, cost_num = gradient_descent(X_train_zscore, y_train, theta, alpha, iterations)\n",
        "\n",
        "plotChart(iterations, cost_num)\n",
        "\n",
        "final_cost, _ = cost_function(X_train_zscore, y_train, theta)\n",
        "print('With final theta values of {0}, cost error is {1}'.format(theta, final_cost))"
      ],
      "metadata": {
        "id": "tt9in-zYqSgY",
        "colab": {
          "base_uri": "https://localhost:8080/",
          "height": 399
        },
        "outputId": "89f93b6a-0d08-49fa-ff99-d4a907b58cfe"
      },
      "execution_count": 241,
      "outputs": [
        {
          "output_type": "display_data",
          "data": {
            "text/plain": [
              "<Figure size 432x288 with 1 Axes>"
            ],
            "image/png": "[encoded data removed]"
          },
          "metadata": {}
        },
        {
          "output_type": "stream",
          "name": "stdout",
          "text": [
            "With final theta values of [2392.51915932   11.23311526   -5.80755421   38.97457415 -199.04897982\n",
            "   29.50284564  992.4691607   161.41131704 -311.74878359 -456.71164746\n",
            "   37.74360144  228.52520289 -197.92010035], cost error is 594930.2296042482\n"
          ]
        }
      ]
    },
    {
      "cell_type": "code",
      "source": [
        "feature_range = (0,1)\n",
        "min = X_train.min(axis=0)\n",
        "scale = (X_train.max(axis=0) - X_train.min(axis = 0)) / (feature_range[1] - feature_range[0])\n",
        "X_train_minmax = (X_train - min) / scale\n",
        "\n",
        "min = X_test.min(axis=0)\n",
        "scale = (X_test.max(axis=0) - X_test.min(axis = 0)) / (feature_range[1] - feature_range[0])\n",
        "\n",
        "X_test_minmax = (X_test - min) / scale\n",
        "X_train_minmax = np.c_[np.ones(X_train_minmax.shape[0]), X_train_minmax] \n",
        "X_test_minmax = np.c_[np.ones(X_test_minmax.shape[0]), X_test_minmax] "
      ],
      "metadata": {
        "id": "T5ZmD6XrR-At"
      },
      "execution_count": 242,
      "outputs": []
    },
    {
      "cell_type": "code",
      "source": [
        "theta = np.zeros(X_train_minmax.shape[1])\n",
        "theta, _ = gradient_descent(X_train_minmax,y_train, theta, alpha, iterations)\n",
        "y_pred=predict(X_test_minmax, theta)\n",
        "y_pred"
      ],
      "metadata": {
        "id": "oxJuglWYSDQI",
        "colab": {
          "base_uri": "https://localhost:8080/"
        },
        "outputId": "5d972ce2-c874-4084-a168-0f77937c7116"
      },
      "execution_count": 243,
      "outputs": [
        {
          "output_type": "execute_result",
          "data": {
            "text/plain": [
              "array([1763.86800382, 1010.38966101, 1439.89719135, ..., 2875.52475246,\n",
              "       2286.71296409, 1698.36745453])"
            ]
          },
          "metadata": {},
          "execution_count": 243
        }
      ]
    },
    {
      "cell_type": "code",
      "source": [
        "print('Accuracy of the model is: ', r2_score(y_test,y_pred))\n",
        "print('Mean Squared Error:', mean_squared_error(y_test, y_pred))\n",
        "print('Root Mean Squared Error:', np.sqrt(mean_squared_error(y_test, y_pred)))\n",
        "print('Mean Absolute Error:', mean_absolute_error(y_test, y_pred))"
      ],
      "metadata": {
        "id": "pddmlSGXSJ0t",
        "colab": {
          "base_uri": "https://localhost:8080/"
        },
        "outputId": "f6710e16-5451-4761-8eea-436d90cd28fa"
      },
      "execution_count": 244,
      "outputs": [
        {
          "output_type": "stream",
          "name": "stdout",
          "text": [
            "Accuracy of the model is:  0.2966367985428502\n",
            "Mean Squared Error: 1971334.4894956595\n",
            "Root Mean Squared Error: 1404.0421964797424\n",
            "Mean Absolute Error: 1076.7467327504282\n"
          ]
        }
      ]
    },
    {
      "cell_type": "code",
      "source": [
        "initial_cost, _ = cost_function(X_train_minmax, y_train, theta)\n",
        "\n",
        "theta, cost_num = gradient_descent(X_train_minmax, y_train, theta, alpha, iterations)\n",
        "\n",
        "plotChart(iterations, cost_num)\n",
        "\n",
        "final_cost, _ = cost_function(X_train_minmax, y_train, theta)\n",
        "print('With final theta values of {0}, cost error is {1}'.format(theta, final_cost))"
      ],
      "metadata": {
        "id": "z4y1AP09Zpo8",
        "colab": {
          "base_uri": "https://localhost:8080/",
          "height": 399
        },
        "outputId": "07db888c-096f-450f-b6e6-00625b74aaac"
      },
      "execution_count": 245,
      "outputs": [
        {
          "output_type": "display_data",
          "data": {
            "text/plain": [
              "<Figure size 432x288 with 1 Axes>"
            ],
            "image/png": "[encoded data removed]"
          },
          "metadata": {}
        },
        {
          "output_type": "stream",
          "name": "stdout",
          "text": [
            "With final theta values of [1002.17288515  174.80973938  152.70695368   84.96656945 -403.1575846\n",
            "  181.98071749 2938.76260976  230.81149481 -377.86978746 -678.28930397\n",
            "  101.09232335  494.09093056 -113.99246227], cost error is 627523.9150459112\n"
          ]
        }
      ]
    },
    {
      "cell_type": "code",
      "source": [
        "X_train = np.c_[np.ones(X_train.shape[0]), X_train] \n",
        "X_test = np.c_[np.ones(X_test.shape[0]), X_test] \n",
        "theta = np.zeros(X_train.shape[1])\n",
        "theta, _ = gradient_descent(X_train,y_train, theta, 0.0000004, iterations)\n",
        "y_pred = predict(X_test, theta)"
      ],
      "metadata": {
        "id": "mg4DN0lUWHrt"
      },
      "execution_count": 246,
      "outputs": []
    },
    {
      "cell_type": "code",
      "source": [
        "print('Accuracy of the model is: ', r2_score(y_test,y_pred))\n",
        "print('Mean Squared Error:', mean_squared_error(y_test, y_pred))\n",
        "print('Root Mean Squared Error:', np.sqrt(mean_squared_error(y_test, y_pred)))\n",
        "print('Mean Absolute Error:', mean_absolute_error(y_test, y_pred))"
      ],
      "metadata": {
        "id": "P3pSUiueWRFQ",
        "colab": {
          "base_uri": "https://localhost:8080/"
        },
        "outputId": "d52abcd3-821a-4dbf-8102-ff7282d4ec45"
      },
      "execution_count": 247,
      "outputs": [
        {
          "output_type": "stream",
          "name": "stdout",
          "text": [
            "Accuracy of the model is:  0.30436304704552286\n",
            "Mean Squared Error: 1949679.9302065484\n",
            "Root Mean Squared Error: 1396.3093963038953\n",
            "Mean Absolute Error: 1041.458092219138\n"
          ]
        }
      ]
    },
    {
      "cell_type": "code",
      "source": [
        "initial_cost, _ = cost_function(X_train, y_train, theta)\n",
        "\n",
        "theta, cost_num = gradient_descent(X_train, y_train, theta, alpha, iterations)\n",
        "\n",
        "plotChart(iterations, cost_num)\n",
        "\n",
        "final_cost, _ = cost_function(X_train, y_train, theta)\n",
        "print('With final theta values of {0}, cost error is {1}'.format(theta, final_cost))"
      ],
      "metadata": {
        "id": "lmkm_BfLYOnz",
        "colab": {
          "base_uri": "https://localhost:8080/",
          "height": 363
        },
        "outputId": "ce68d4f3-1e24-4617-e195-bcb1664dce63"
      },
      "execution_count": 248,
      "outputs": [
        {
          "output_type": "display_data",
          "data": {
            "text/plain": [
              "<Figure size 432x288 with 1 Axes>"
            ],
            "image/png": "[encoded data removed]"
          },
          "metadata": {}
        },
        {
          "output_type": "stream",
          "name": "stdout",
          "text": [
            "With final theta values of [nan nan nan nan nan nan nan nan nan nan nan nan nan], cost error is nan\n"
          ]
        }
      ]
    }
  ]
}